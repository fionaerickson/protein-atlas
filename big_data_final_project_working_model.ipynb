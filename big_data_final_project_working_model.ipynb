{
  "nbformat": 4,
  "nbformat_minor": 0,
  "metadata": {
    "colab": {
      "name": "big_data_final_project_working_model.ipynb",
      "provenance": [],
      "collapsed_sections": [],
      "toc_visible": true
    },
    "kernelspec": {
      "name": "python3",
      "display_name": "Python 3"
    },
    "accelerator": "GPU"
  },
  "cells": [
    {
      "cell_type": "markdown",
      "metadata": {
        "id": "B6ZAPKyLZaJ7",
        "colab_type": "text"
      },
      "source": [
        "# **Big Data Final Project - Protein Atlas**\n",
        "Windy Aldeborgh, Fiona Erickson, Louis Haskins, Kirby Hood\n",
        "\n",
        "Presentation deck: https://docs.google.com/presentation/d/19MTT2DkSH4YAEn8N9PxTUNSU6k4G1AsA-EBT0W0luTo/edit?usp=sharing\n",
        "\n",
        "Data Source: https://www.kaggle.com/c/human-protein-atlas-image-classification/data"
      ]
    },
    {
      "cell_type": "code",
      "metadata": {
        "id": "clMGj1bDfqHg",
        "colab_type": "code",
        "outputId": "471b5eef-3317-439a-8757-b0ceafdd3aba",
        "colab": {
          "base_uri": "https://localhost:8080/",
          "height": 224
        }
      },
      "source": [
        "# Data is read in via Kaggle API\n",
        "!pip install kaggle"
      ],
      "execution_count": 0,
      "outputs": [
        {
          "output_type": "stream",
          "text": [
            "Requirement already satisfied: kaggle in /usr/local/lib/python3.6/dist-packages (1.5.1.1)\n",
            "Requirement already satisfied: urllib3<1.23.0,>=1.15 in /usr/local/lib/python3.6/dist-packages (from kaggle) (1.22)\n",
            "Requirement already satisfied: six>=1.10 in /usr/local/lib/python3.6/dist-packages (from kaggle) (1.11.0)\n",
            "Requirement already satisfied: certifi in /usr/local/lib/python3.6/dist-packages (from kaggle) (2018.11.29)\n",
            "Requirement already satisfied: python-dateutil in /usr/local/lib/python3.6/dist-packages (from kaggle) (2.5.3)\n",
            "Requirement already satisfied: requests in /usr/local/lib/python3.6/dist-packages (from kaggle) (2.18.4)\n",
            "Requirement already satisfied: tqdm in /usr/local/lib/python3.6/dist-packages (from kaggle) (4.28.1)\n",
            "Requirement already satisfied: python-slugify in /usr/local/lib/python3.6/dist-packages (from kaggle) (1.2.6)\n",
            "Requirement already satisfied: idna<2.7,>=2.5 in /usr/local/lib/python3.6/dist-packages (from requests->kaggle) (2.6)\n",
            "Requirement already satisfied: chardet<3.1.0,>=3.0.2 in /usr/local/lib/python3.6/dist-packages (from requests->kaggle) (3.0.4)\n",
            "Requirement already satisfied: Unidecode>=0.04.16 in /usr/local/lib/python3.6/dist-packages (from python-slugify->kaggle) (1.0.23)\n"
          ],
          "name": "stdout"
        }
      ]
    },
    {
      "cell_type": "code",
      "metadata": {
        "id": "KyIllivLkRXK",
        "colab_type": "code",
        "outputId": "48038e6e-ef7a-454a-aa57-43c9331812c5",
        "colab": {
          "base_uri": "https://localhost:8080/",
          "height": 34
        }
      },
      "source": [
        "# TensorFlow and tf.keras\n",
        "import tensorflow as tf\n",
        "from tensorflow import keras\n",
        "\n",
        "# Helper libraries\n",
        "import numpy as np\n",
        "import matplotlib.pyplot as plt\n",
        "\n",
        "print(tf.__version__)"
      ],
      "execution_count": 0,
      "outputs": [
        {
          "output_type": "stream",
          "text": [
            "1.12.0\n"
          ],
          "name": "stdout"
        }
      ]
    },
    {
      "cell_type": "markdown",
      "metadata": {
        "id": "m65yaYizczeK",
        "colab_type": "text"
      },
      "source": [
        "## Getting the Data"
      ]
    },
    {
      "cell_type": "code",
      "metadata": {
        "id": "bOLCpmDQom_s",
        "colab_type": "code",
        "outputId": "12895e63-71bb-44bc-eab7-79afc5b1c541",
        "colab": {
          "base_uri": "https://localhost:8080/",
          "height": 34
        }
      },
      "source": [
        "# Connecting to Kaggle API - must create google key to get access\n",
        "from googleapiclient.discovery import build\n",
        "import io, os\n",
        "from googleapiclient.http import MediaIoBaseDownload\n",
        "from google.colab import auth\n",
        "auth.authenticate_user()\n",
        "drive_service = build('drive', 'v3')\n",
        "results = drive_service.files().list(\n",
        "        q=\"name = 'kaggle.json'\", fields=\"files(id)\").execute()\n",
        "kaggle_api_key = results.get('files', [])\n",
        "filename = \"/root/.kaggle/kaggle.json\"\n",
        "os.makedirs(os.path.dirname(filename), exist_ok=True)\n",
        "request = drive_service.files().get_media(fileId=kaggle_api_key[0]['id'])\n",
        "fh = io.FileIO(filename, 'wb')\n",
        "downloader = MediaIoBaseDownload(fh, request)\n",
        "done = False\n",
        "while done is False:\n",
        "    status, done = downloader.next_chunk()\n",
        "    print(\"Download %d%%.\" % int(status.progress() * 100))\n",
        "os.chmod(filename, 600)"
      ],
      "execution_count": 0,
      "outputs": [
        {
          "output_type": "stream",
          "text": [
            "Download 100%.\n"
          ],
          "name": "stdout"
        }
      ]
    },
    {
      "cell_type": "code",
      "metadata": {
        "id": "Wx2dVuaEoa9T",
        "colab_type": "code",
        "outputId": "01d539f8-2ca0-4cc1-ea23-bf26002c1a3c",
        "colab": {
          "base_uri": "https://localhost:8080/",
          "height": 221
        }
      },
      "source": [
        "!kaggle competitions download -c human-protein-atlas-image-classification"
      ],
      "execution_count": 0,
      "outputs": [
        {
          "output_type": "stream",
          "text": [
            "Downloading sample_submission.csv to /content\n",
            "\r  0% 0.00/446k [00:00<?, ?B/s]\n",
            "100% 446k/446k [00:00<00:00, 29.3MB/s]\n",
            "Downloading train.csv to /content\n",
            "  0% 0.00/1.22M [00:00<?, ?B/s]\n",
            "100% 1.22M/1.22M [00:00<00:00, 39.8MB/s]\n",
            "Downloading test.zip to /content\n",
            "100% 4.36G/4.37G [00:36<00:00, 136MB/s]\n",
            "100% 4.37G/4.37G [00:36<00:00, 128MB/s]\n",
            "Downloading train.zip to /content\n",
            "100% 13.1G/13.1G [01:52<00:00, 127MB/s]\n",
            "100% 13.1G/13.1G [01:52<00:00, 125MB/s]\n"
          ],
          "name": "stdout"
        }
      ]
    },
    {
      "cell_type": "code",
      "metadata": {
        "id": "f05cR4fWnyDB",
        "colab_type": "code",
        "colab": {}
      },
      "source": [
        "from zipfile import ZipFile\n",
        "import re"
      ],
      "execution_count": 0,
      "outputs": []
    },
    {
      "cell_type": "code",
      "metadata": {
        "id": "zjv-NB0Tdaq2",
        "colab_type": "code",
        "colab": {}
      },
      "source": [
        "#Extract all Green Filter Test Images\n",
        "\n",
        "path = 'test/'\n",
        "\n",
        "Zip = ZipFile('test.zip')\n",
        "for info in Zip.infolist():\n",
        " if re.match(r'.*_green.*\\.png$', info.filename):\n",
        "   #print (info.filename)\n",
        "   Zip.extract(info,path )"
      ],
      "execution_count": 0,
      "outputs": []
    },
    {
      "cell_type": "code",
      "metadata": {
        "id": "_9G4kNZYdfmu",
        "colab_type": "code",
        "colab": {}
      },
      "source": [
        "#Extract all Green Filter Train Images\n",
        "\n",
        "path = 'train/'\n",
        "\n",
        "Zip = ZipFile('train.zip')\n",
        "for info in Zip.infolist():\n",
        "  if re.match(r'.*_green.*\\.png$', info.filename):\n",
        "   #print (info.filename)\n",
        "    Zip.extract(info,path )"
      ],
      "execution_count": 0,
      "outputs": []
    },
    {
      "cell_type": "code",
      "metadata": {
        "id": "DGAIoBe-esxY",
        "colab_type": "code",
        "colab": {}
      },
      "source": [
        "import pandas as pd\n",
        "train_labels = pd.read_csv('train.csv', sep=',')"
      ],
      "execution_count": 0,
      "outputs": []
    },
    {
      "cell_type": "code",
      "metadata": {
        "id": "D2ulBvEFjRno",
        "colab_type": "code",
        "outputId": "64d66aaf-dc27-4e93-b117-0c6a9a8d604e",
        "colab": {
          "base_uri": "https://localhost:8080/",
          "height": 119
        }
      },
      "source": [
        "train_labels.Id.head()"
      ],
      "execution_count": 0,
      "outputs": [
        {
          "output_type": "execute_result",
          "data": {
            "text/plain": [
              "0    00070df0-bbc3-11e8-b2bc-ac1f6b6435d0\n",
              "1    000a6c98-bb9b-11e8-b2b9-ac1f6b6435d0\n",
              "2    000a9596-bbc4-11e8-b2bc-ac1f6b6435d0\n",
              "3    000c99ba-bba4-11e8-b2b9-ac1f6b6435d0\n",
              "4    001838f8-bbca-11e8-b2bc-ac1f6b6435d0\n",
              "Name: Id, dtype: object"
            ]
          },
          "metadata": {
            "tags": []
          },
          "execution_count": 9
        }
      ]
    },
    {
      "cell_type": "markdown",
      "metadata": {
        "id": "3pWeoNElc3VK",
        "colab_type": "text"
      },
      "source": [
        "## Preprocessing and Exploration"
      ]
    },
    {
      "cell_type": "code",
      "metadata": {
        "id": "sxjapFjNfs3K",
        "colab_type": "code",
        "colab": {}
      },
      "source": [
        "# Labels are read in as 0-27, provide names for each class   \n",
        "  label_names = {\n",
        "        0:  \"Nucleoplasm\",  \n",
        "        1:  \"Nuclear membrane\",   \n",
        "        2:  \"Nucleoli\",   \n",
        "        3:  \"Nucleoli fibrillar center\",   \n",
        "        4:  \"Nuclear speckles\",\n",
        "        5:  \"Nuclear bodies\",   \n",
        "        6:  \"Endoplasmic reticulum\",   \n",
        "        7:  \"Golgi apparatus\",   \n",
        "        8:  \"Peroxisomes\",   \n",
        "        9:  \"Endosomes\",   \n",
        "        10:  \"Lysosomes\",   \n",
        "        11:  \"Intermediate filaments\",   \n",
        "        12:  \"Actin filaments\",   \n",
        "        13:  \"Focal adhesion sites\",   \n",
        "        14:  \"Microtubules\",   \n",
        "        15:  \"Microtubule ends\",   \n",
        "        16:  \"Cytokinetic bridge\",   \n",
        "        17:  \"Mitotic spindle\",   \n",
        "        18:  \"Microtubule organizing center\",   \n",
        "        19:  \"Centrosome\",   \n",
        "        20:  \"Lipid droplets\",   \n",
        "        21:  \"Plasma membrane\",   \n",
        "        22:  \"Cell junctions\",   \n",
        "        23:  \"Mitochondria\",   \n",
        "        24:  \"Aggresome\",   \n",
        "        25:  \"Cytosol\",   \n",
        "        26:  \"Cytoplasmic bodies\",   \n",
        "        27:  \"Rods & rings\"\n",
        "    }\n",
        "  \n"
      ],
      "execution_count": 0,
      "outputs": []
    },
    {
      "cell_type": "code",
      "metadata": {
        "id": "gXty12DyeyP1",
        "colab_type": "code",
        "colab": {}
      },
      "source": [
        "reverse_train_labels = dict((v,k) for k,v in label_names.items())"
      ],
      "execution_count": 0,
      "outputs": []
    },
    {
      "cell_type": "code",
      "metadata": {
        "id": "b83UDxuVe1tN",
        "colab_type": "code",
        "outputId": "08c8fe0e-684e-4535-9ac2-521fd8367a17",
        "colab": {
          "base_uri": "https://localhost:8080/",
          "height": 542
        }
      },
      "source": [
        "# Create a data set with an array column containing the list of proteins in each image\n",
        "\n",
        "train_labels[f'target_vec'] = train_labels['Target'].map(lambda x: list(map(int, x.strip().split())))\n",
        "for i in range(28):\n",
        "    train_labels[f'{label_names[i]}'] = train_labels['Target'].map(\n",
        "             lambda x: 1 if str(i) in x.strip().split() else 0)\n",
        "train_labels.head()"
      ],
      "execution_count": 0,
      "outputs": [
        {
          "output_type": "execute_result",
          "data": {
            "text/html": [
              "<div>\n",
              "<style scoped>\n",
              "    .dataframe tbody tr th:only-of-type {\n",
              "        vertical-align: middle;\n",
              "    }\n",
              "\n",
              "    .dataframe tbody tr th {\n",
              "        vertical-align: top;\n",
              "    }\n",
              "\n",
              "    .dataframe thead th {\n",
              "        text-align: right;\n",
              "    }\n",
              "</style>\n",
              "<table border=\"1\" class=\"dataframe\">\n",
              "  <thead>\n",
              "    <tr style=\"text-align: right;\">\n",
              "      <th></th>\n",
              "      <th>Id</th>\n",
              "      <th>Target</th>\n",
              "      <th>target_vec</th>\n",
              "      <th>Nucleoplasm</th>\n",
              "      <th>Nuclear membrane</th>\n",
              "      <th>Nucleoli</th>\n",
              "      <th>Nucleoli fibrillar center</th>\n",
              "      <th>Nuclear speckles</th>\n",
              "      <th>Nuclear bodies</th>\n",
              "      <th>Endoplasmic reticulum</th>\n",
              "      <th>...</th>\n",
              "      <th>Microtubule organizing center</th>\n",
              "      <th>Centrosome</th>\n",
              "      <th>Lipid droplets</th>\n",
              "      <th>Plasma membrane</th>\n",
              "      <th>Cell junctions</th>\n",
              "      <th>Mitochondria</th>\n",
              "      <th>Aggresome</th>\n",
              "      <th>Cytosol</th>\n",
              "      <th>Cytoplasmic bodies</th>\n",
              "      <th>Rods &amp; rings</th>\n",
              "    </tr>\n",
              "  </thead>\n",
              "  <tbody>\n",
              "    <tr>\n",
              "      <th>0</th>\n",
              "      <td>00070df0-bbc3-11e8-b2bc-ac1f6b6435d0</td>\n",
              "      <td>16 0</td>\n",
              "      <td>[16, 0]</td>\n",
              "      <td>1</td>\n",
              "      <td>0</td>\n",
              "      <td>0</td>\n",
              "      <td>0</td>\n",
              "      <td>0</td>\n",
              "      <td>0</td>\n",
              "      <td>0</td>\n",
              "      <td>...</td>\n",
              "      <td>0</td>\n",
              "      <td>0</td>\n",
              "      <td>0</td>\n",
              "      <td>0</td>\n",
              "      <td>0</td>\n",
              "      <td>0</td>\n",
              "      <td>0</td>\n",
              "      <td>0</td>\n",
              "      <td>0</td>\n",
              "      <td>0</td>\n",
              "    </tr>\n",
              "    <tr>\n",
              "      <th>1</th>\n",
              "      <td>000a6c98-bb9b-11e8-b2b9-ac1f6b6435d0</td>\n",
              "      <td>7 1 2 0</td>\n",
              "      <td>[7, 1, 2, 0]</td>\n",
              "      <td>1</td>\n",
              "      <td>1</td>\n",
              "      <td>1</td>\n",
              "      <td>0</td>\n",
              "      <td>0</td>\n",
              "      <td>0</td>\n",
              "      <td>0</td>\n",
              "      <td>...</td>\n",
              "      <td>0</td>\n",
              "      <td>0</td>\n",
              "      <td>0</td>\n",
              "      <td>0</td>\n",
              "      <td>0</td>\n",
              "      <td>0</td>\n",
              "      <td>0</td>\n",
              "      <td>0</td>\n",
              "      <td>0</td>\n",
              "      <td>0</td>\n",
              "    </tr>\n",
              "    <tr>\n",
              "      <th>2</th>\n",
              "      <td>000a9596-bbc4-11e8-b2bc-ac1f6b6435d0</td>\n",
              "      <td>5</td>\n",
              "      <td>[5]</td>\n",
              "      <td>0</td>\n",
              "      <td>0</td>\n",
              "      <td>0</td>\n",
              "      <td>0</td>\n",
              "      <td>0</td>\n",
              "      <td>1</td>\n",
              "      <td>0</td>\n",
              "      <td>...</td>\n",
              "      <td>0</td>\n",
              "      <td>0</td>\n",
              "      <td>0</td>\n",
              "      <td>0</td>\n",
              "      <td>0</td>\n",
              "      <td>0</td>\n",
              "      <td>0</td>\n",
              "      <td>0</td>\n",
              "      <td>0</td>\n",
              "      <td>0</td>\n",
              "    </tr>\n",
              "    <tr>\n",
              "      <th>3</th>\n",
              "      <td>000c99ba-bba4-11e8-b2b9-ac1f6b6435d0</td>\n",
              "      <td>1</td>\n",
              "      <td>[1]</td>\n",
              "      <td>0</td>\n",
              "      <td>1</td>\n",
              "      <td>0</td>\n",
              "      <td>0</td>\n",
              "      <td>0</td>\n",
              "      <td>0</td>\n",
              "      <td>0</td>\n",
              "      <td>...</td>\n",
              "      <td>0</td>\n",
              "      <td>0</td>\n",
              "      <td>0</td>\n",
              "      <td>0</td>\n",
              "      <td>0</td>\n",
              "      <td>0</td>\n",
              "      <td>0</td>\n",
              "      <td>0</td>\n",
              "      <td>0</td>\n",
              "      <td>0</td>\n",
              "    </tr>\n",
              "    <tr>\n",
              "      <th>4</th>\n",
              "      <td>001838f8-bbca-11e8-b2bc-ac1f6b6435d0</td>\n",
              "      <td>18</td>\n",
              "      <td>[18]</td>\n",
              "      <td>0</td>\n",
              "      <td>0</td>\n",
              "      <td>0</td>\n",
              "      <td>0</td>\n",
              "      <td>0</td>\n",
              "      <td>0</td>\n",
              "      <td>0</td>\n",
              "      <td>...</td>\n",
              "      <td>1</td>\n",
              "      <td>0</td>\n",
              "      <td>0</td>\n",
              "      <td>0</td>\n",
              "      <td>0</td>\n",
              "      <td>0</td>\n",
              "      <td>0</td>\n",
              "      <td>0</td>\n",
              "      <td>0</td>\n",
              "      <td>0</td>\n",
              "    </tr>\n",
              "  </tbody>\n",
              "</table>\n",
              "<p>5 rows × 31 columns</p>\n",
              "</div>"
            ],
            "text/plain": [
              "                                     Id   Target    target_vec  Nucleoplasm  \\\n",
              "0  00070df0-bbc3-11e8-b2bc-ac1f6b6435d0     16 0       [16, 0]            1   \n",
              "1  000a6c98-bb9b-11e8-b2b9-ac1f6b6435d0  7 1 2 0  [7, 1, 2, 0]            1   \n",
              "2  000a9596-bbc4-11e8-b2bc-ac1f6b6435d0        5           [5]            0   \n",
              "3  000c99ba-bba4-11e8-b2b9-ac1f6b6435d0        1           [1]            0   \n",
              "4  001838f8-bbca-11e8-b2bc-ac1f6b6435d0       18          [18]            0   \n",
              "\n",
              "   Nuclear membrane  Nucleoli  Nucleoli fibrillar center  Nuclear speckles  \\\n",
              "0                 0         0                          0                 0   \n",
              "1                 1         1                          0                 0   \n",
              "2                 0         0                          0                 0   \n",
              "3                 1         0                          0                 0   \n",
              "4                 0         0                          0                 0   \n",
              "\n",
              "   Nuclear bodies  Endoplasmic reticulum      ...       \\\n",
              "0               0                      0      ...        \n",
              "1               0                      0      ...        \n",
              "2               1                      0      ...        \n",
              "3               0                      0      ...        \n",
              "4               0                      0      ...        \n",
              "\n",
              "   Microtubule organizing center  Centrosome  Lipid droplets  Plasma membrane  \\\n",
              "0                              0           0               0                0   \n",
              "1                              0           0               0                0   \n",
              "2                              0           0               0                0   \n",
              "3                              0           0               0                0   \n",
              "4                              1           0               0                0   \n",
              "\n",
              "   Cell junctions  Mitochondria  Aggresome  Cytosol  Cytoplasmic bodies  \\\n",
              "0               0             0          0        0                   0   \n",
              "1               0             0          0        0                   0   \n",
              "2               0             0          0        0                   0   \n",
              "3               0             0          0        0                   0   \n",
              "4               0             0          0        0                   0   \n",
              "\n",
              "   Rods & rings  \n",
              "0             0  \n",
              "1             0  \n",
              "2             0  \n",
              "3             0  \n",
              "4             0  \n",
              "\n",
              "[5 rows x 31 columns]"
            ]
          },
          "metadata": {
            "tags": []
          },
          "execution_count": 12
        }
      ]
    },
    {
      "cell_type": "code",
      "metadata": {
        "id": "JzJIDTU6xoHo",
        "colab_type": "code",
        "colab": {}
      },
      "source": [
        "#flatui = [\"#0bdebf\", \"#058687\", \"#112e40ff\", \"#ed553b\", “#ffffff\"]\n",
        "#sns.palplot(sns.\n",
        "colors = [\"aqua\", \"turquoise\", \"bluegreen\", \"very dark blue\", \"orangey red\"]\n",
        "sns.palplot(sns.xkcd_palette(colors))\n",
        "sns.set_palette(sns.xkcd_palette(colors))\n",
        "sns.set_style(\"whitegrid\")"
      ],
      "execution_count": 0,
      "outputs": []
    },
    {
      "cell_type": "code",
      "metadata": {
        "id": "clQKAN-fxqrC",
        "colab_type": "code",
        "colab": {}
      },
      "source": [
        "train_labels[\"number_of_targets\"] = train_labels.drop([\"Id\", \"Target\"],axis=1).sum(axis=1)\n",
        "count_perc = np.round(100 * train_labels[\"number_of_targets\"].value_counts() / train_labels.shape[0], 2)\n",
        "plt.figure(figsize=(20,5))\n",
        "sns.barplot(x=count_perc.index.values, y=count_perc.values)\n",
        "plt.xlabel(\"Number of targets per image\")\n",
        "plt.ylabel(\"% of data\")"
      ],
      "execution_count": 0,
      "outputs": []
    },
    {
      "cell_type": "code",
      "metadata": {
        "id": "XJ_1WnSTxvWg",
        "colab_type": "code",
        "colab": {}
      },
      "source": [
        "# Correlation between proteins\n",
        "import seaborn as sns\n",
        "plt.figure(figsize=(15,15))\n",
        "sns.heatmap(train_labels[train_labels.number_of_targets>1].drop(\n",
        "    [\"Id\", \"Target\", \"number_of_targets\"],axis=1\n",
        ").corr(), cmap=\"GnBu\", vmin=-1, vmax=1)"
      ],
      "execution_count": 0,
      "outputs": []
    },
    {
      "cell_type": "code",
      "metadata": {
        "id": "q1X0JGWPxvYd",
        "colab_type": "code",
        "colab": {}
      },
      "source": [
        "# Agreesomes\n",
        "def find_counts(special_target, labels):\n",
        "    counts = labels[labels[special_target] == 1].drop(\n",
        "        [\"Id\", \"Target\", \"number_of_targets\"],axis=1\n",
        "    ).sum(axis=0)\n",
        "    counts = counts[counts > 0]\n",
        "    counts = counts.sort_values()\n",
        "    return counts"
      ],
      "execution_count": 0,
      "outputs": []
    },
    {
      "cell_type": "code",
      "metadata": {
        "id": "qT0wB3vHx75v",
        "colab_type": "code",
        "colab": {}
      },
      "source": [
        "aggresomeCount = find_counts(\"Aggresome\", train_labels)\n",
        "\n",
        "plt.figure(figsize=(10,3))\n",
        "sns.barplot(x=aggresomeCount.values,y=aggresomeCount.index.values, palette=\"Spectral\")"
      ],
      "execution_count": 0,
      "outputs": []
    },
    {
      "cell_type": "code",
      "metadata": {
        "id": "_2lJth--s80o",
        "colab_type": "code",
        "colab": {}
      },
      "source": [
        "import pandas as pd\n",
        "import numpy as np\n",
        "import os\n",
        "from sklearn.model_selection import train_test_split\n",
        "from sklearn.metrics import f1_score\n",
        "import scipy.optimize as opt"
      ],
      "execution_count": 0,
      "outputs": []
    },
    {
      "cell_type": "code",
      "metadata": {
        "id": "ZCLVH10QVHjG",
        "colab_type": "code",
        "outputId": "8bf1d6f9-3fe8-4c46-c151-5994f94fd6b0",
        "colab": {
          "base_uri": "https://localhost:8080/",
          "height": 934
        }
      },
      "source": [
        "# Plot overall dataset class distribution\n",
        "\n",
        "import seaborn as sns\n",
        "\n",
        "target_counts = train_labels.drop([\"Id\", \"Target\", \"target_vec\"],axis=1).sum(axis=0).sort_values(ascending=False)\n",
        "plt.figure(figsize=(15,15))\n",
        "sns.barplot(y=target_counts.index.values, x=target_counts.values, order=target_counts.index, palette=\"Spectral\")"
      ],
      "execution_count": 0,
      "outputs": [
        {
          "output_type": "stream",
          "text": [
            "/usr/local/lib/python3.6/dist-packages/seaborn/categorical.py:1428: FutureWarning: remove_na is deprecated and is a private function. Do not use.\n",
            "  stat_data = remove_na(group_data)\n"
          ],
          "name": "stderr"
        },
        {
          "output_type": "execute_result",
          "data": {
            "text/plain": [
              "<matplotlib.axes._subplots.AxesSubplot at 0x7fb504f31278>"
            ]
          },
          "metadata": {
            "tags": []
          },
          "execution_count": 15
        },
        {
          "output_type": "display_data",
          "data": {
            "image/png": "[encoded data removed]",
            "text/plain": [
              "<matplotlib.figure.Figure at 0x7fb504f5ff60>"
            ]
          },
          "metadata": {
            "tags": []
          }
        }
      ]
    },
    {
      "cell_type": "markdown",
      "metadata": {
        "id": "t9tJ5baucqCk",
        "colab_type": "text"
      },
      "source": [
        "### Aggresome dataset"
      ]
    },
    {
      "cell_type": "code",
      "metadata": {
        "id": "x9APNoCGgFGK",
        "colab_type": "code",
        "outputId": "a50030d0-b571-4d25-e69f-b0fcd80597b3",
        "colab": {
          "base_uri": "https://localhost:8080/",
          "height": 559
        }
      },
      "source": [
        "\n",
        "class_index = 24  # Aggresomes\n",
        "aggresome_labels = train_labels.loc[(train_labels[label_names[class_index]] == 1)]\n",
        "print(f'shape before {train_labels.shape}, shape after {aggresome_labels.shape}')\n",
        "aggresome_labels.head()"
      ],
      "execution_count": 0,
      "outputs": [
        {
          "output_type": "stream",
          "text": [
            "shape before (31072, 31), shape after (322, 31)\n"
          ],
          "name": "stdout"
        },
        {
          "output_type": "execute_result",
          "data": {
            "text/html": [
              "<div>\n",
              "<style scoped>\n",
              "    .dataframe tbody tr th:only-of-type {\n",
              "        vertical-align: middle;\n",
              "    }\n",
              "\n",
              "    .dataframe tbody tr th {\n",
              "        vertical-align: top;\n",
              "    }\n",
              "\n",
              "    .dataframe thead th {\n",
              "        text-align: right;\n",
              "    }\n",
              "</style>\n",
              "<table border=\"1\" class=\"dataframe\">\n",
              "  <thead>\n",
              "    <tr style=\"text-align: right;\">\n",
              "      <th></th>\n",
              "      <th>Id</th>\n",
              "      <th>Target</th>\n",
              "      <th>target_vec</th>\n",
              "      <th>Nucleoplasm</th>\n",
              "      <th>Nuclear membrane</th>\n",
              "      <th>Nucleoli</th>\n",
              "      <th>Nucleoli fibrillar center</th>\n",
              "      <th>Nuclear speckles</th>\n",
              "      <th>Nuclear bodies</th>\n",
              "      <th>Endoplasmic reticulum</th>\n",
              "      <th>...</th>\n",
              "      <th>Microtubule organizing center</th>\n",
              "      <th>Centrosome</th>\n",
              "      <th>Lipid droplets</th>\n",
              "      <th>Plasma membrane</th>\n",
              "      <th>Cell junctions</th>\n",
              "      <th>Mitochondria</th>\n",
              "      <th>Aggresome</th>\n",
              "      <th>Cytosol</th>\n",
              "      <th>Cytoplasmic bodies</th>\n",
              "      <th>Rods &amp; rings</th>\n",
              "    </tr>\n",
              "  </thead>\n",
              "  <tbody>\n",
              "    <tr>\n",
              "      <th>12</th>\n",
              "      <td>0032a07e-bba9-11e8-b2ba-ac1f6b6435d0</td>\n",
              "      <td>24 0</td>\n",
              "      <td>[24, 0]</td>\n",
              "      <td>1</td>\n",
              "      <td>0</td>\n",
              "      <td>0</td>\n",
              "      <td>0</td>\n",
              "      <td>0</td>\n",
              "      <td>0</td>\n",
              "      <td>0</td>\n",
              "      <td>...</td>\n",
              "      <td>0</td>\n",
              "      <td>0</td>\n",
              "      <td>0</td>\n",
              "      <td>0</td>\n",
              "      <td>0</td>\n",
              "      <td>0</td>\n",
              "      <td>1</td>\n",
              "      <td>0</td>\n",
              "      <td>0</td>\n",
              "      <td>0</td>\n",
              "    </tr>\n",
              "    <tr>\n",
              "      <th>264</th>\n",
              "      <td>024f5654-bbae-11e8-b2ba-ac1f6b6435d0</td>\n",
              "      <td>24 22</td>\n",
              "      <td>[24, 22]</td>\n",
              "      <td>0</td>\n",
              "      <td>0</td>\n",
              "      <td>0</td>\n",
              "      <td>0</td>\n",
              "      <td>0</td>\n",
              "      <td>0</td>\n",
              "      <td>0</td>\n",
              "      <td>...</td>\n",
              "      <td>0</td>\n",
              "      <td>0</td>\n",
              "      <td>0</td>\n",
              "      <td>0</td>\n",
              "      <td>1</td>\n",
              "      <td>0</td>\n",
              "      <td>1</td>\n",
              "      <td>0</td>\n",
              "      <td>0</td>\n",
              "      <td>0</td>\n",
              "    </tr>\n",
              "    <tr>\n",
              "      <th>334</th>\n",
              "      <td>02f839b2-bba5-11e8-b2ba-ac1f6b6435d0</td>\n",
              "      <td>24 18</td>\n",
              "      <td>[24, 18]</td>\n",
              "      <td>0</td>\n",
              "      <td>0</td>\n",
              "      <td>0</td>\n",
              "      <td>0</td>\n",
              "      <td>0</td>\n",
              "      <td>0</td>\n",
              "      <td>0</td>\n",
              "      <td>...</td>\n",
              "      <td>1</td>\n",
              "      <td>0</td>\n",
              "      <td>0</td>\n",
              "      <td>0</td>\n",
              "      <td>0</td>\n",
              "      <td>0</td>\n",
              "      <td>1</td>\n",
              "      <td>0</td>\n",
              "      <td>0</td>\n",
              "      <td>0</td>\n",
              "    </tr>\n",
              "    <tr>\n",
              "      <th>344</th>\n",
              "      <td>03181d4e-bbb0-11e8-b2ba-ac1f6b6435d0</td>\n",
              "      <td>24 21</td>\n",
              "      <td>[24, 21]</td>\n",
              "      <td>0</td>\n",
              "      <td>0</td>\n",
              "      <td>0</td>\n",
              "      <td>0</td>\n",
              "      <td>0</td>\n",
              "      <td>0</td>\n",
              "      <td>0</td>\n",
              "      <td>...</td>\n",
              "      <td>0</td>\n",
              "      <td>0</td>\n",
              "      <td>0</td>\n",
              "      <td>1</td>\n",
              "      <td>0</td>\n",
              "      <td>0</td>\n",
              "      <td>1</td>\n",
              "      <td>0</td>\n",
              "      <td>0</td>\n",
              "      <td>0</td>\n",
              "    </tr>\n",
              "    <tr>\n",
              "      <th>358</th>\n",
              "      <td>033f4c8a-bb9b-11e8-b2b9-ac1f6b6435d0</td>\n",
              "      <td>24 11</td>\n",
              "      <td>[24, 11]</td>\n",
              "      <td>0</td>\n",
              "      <td>0</td>\n",
              "      <td>0</td>\n",
              "      <td>0</td>\n",
              "      <td>0</td>\n",
              "      <td>0</td>\n",
              "      <td>0</td>\n",
              "      <td>...</td>\n",
              "      <td>0</td>\n",
              "      <td>0</td>\n",
              "      <td>0</td>\n",
              "      <td>0</td>\n",
              "      <td>0</td>\n",
              "      <td>0</td>\n",
              "      <td>1</td>\n",
              "      <td>0</td>\n",
              "      <td>0</td>\n",
              "      <td>0</td>\n",
              "    </tr>\n",
              "  </tbody>\n",
              "</table>\n",
              "<p>5 rows × 31 columns</p>\n",
              "</div>"
            ],
            "text/plain": [
              "                                       Id Target target_vec  Nucleoplasm  \\\n",
              "12   0032a07e-bba9-11e8-b2ba-ac1f6b6435d0   24 0    [24, 0]            1   \n",
              "264  024f5654-bbae-11e8-b2ba-ac1f6b6435d0  24 22   [24, 22]            0   \n",
              "334  02f839b2-bba5-11e8-b2ba-ac1f6b6435d0  24 18   [24, 18]            0   \n",
              "344  03181d4e-bbb0-11e8-b2ba-ac1f6b6435d0  24 21   [24, 21]            0   \n",
              "358  033f4c8a-bb9b-11e8-b2b9-ac1f6b6435d0  24 11   [24, 11]            0   \n",
              "\n",
              "     Nuclear membrane  Nucleoli  Nucleoli fibrillar center  Nuclear speckles  \\\n",
              "12                  0         0                          0                 0   \n",
              "264                 0         0                          0                 0   \n",
              "334                 0         0                          0                 0   \n",
              "344                 0         0                          0                 0   \n",
              "358                 0         0                          0                 0   \n",
              "\n",
              "     Nuclear bodies  Endoplasmic reticulum      ...       \\\n",
              "12                0                      0      ...        \n",
              "264               0                      0      ...        \n",
              "334               0                      0      ...        \n",
              "344               0                      0      ...        \n",
              "358               0                      0      ...        \n",
              "\n",
              "     Microtubule organizing center  Centrosome  Lipid droplets  \\\n",
              "12                               0           0               0   \n",
              "264                              0           0               0   \n",
              "334                              1           0               0   \n",
              "344                              0           0               0   \n",
              "358                              0           0               0   \n",
              "\n",
              "     Plasma membrane  Cell junctions  Mitochondria  Aggresome  Cytosol  \\\n",
              "12                 0               0             0          1        0   \n",
              "264                0               1             0          1        0   \n",
              "334                0               0             0          1        0   \n",
              "344                1               0             0          1        0   \n",
              "358                0               0             0          1        0   \n",
              "\n",
              "     Cytoplasmic bodies  Rods & rings  \n",
              "12                    0             0  \n",
              "264                   0             0  \n",
              "334                   0             0  \n",
              "344                   0             0  \n",
              "358                   0             0  \n",
              "\n",
              "[5 rows x 31 columns]"
            ]
          },
          "metadata": {
            "tags": []
          },
          "execution_count": 70
        }
      ]
    },
    {
      "cell_type": "code",
      "metadata": {
        "id": "7g63CGcYTp6s",
        "colab_type": "code",
        "outputId": "6eb6d766-6591-4b37-c22a-b891f7a2d8ab",
        "colab": {
          "base_uri": "https://localhost:8080/",
          "height": 914
        }
      },
      "source": [
        "# Plot Aggresome dataset distribution\n",
        "\n",
        "target_counts = aggresome_labels.drop([\"Id\", \"Target\", \"target_vec\"],axis=1).sum(axis=0).sort_values(ascending=False)\n",
        "plt.figure(figsize=(15,15))\n",
        "sns.barplot(y=target_counts.index.values, x=target_counts.values, order=target_counts.index, palette=\"Spectral\")"
      ],
      "execution_count": 0,
      "outputs": [
        {
          "output_type": "stream",
          "text": [
            "/usr/local/lib/python3.6/dist-packages/seaborn/categorical.py:1428: FutureWarning: remove_na is deprecated and is a private function. Do not use.\n",
            "  stat_data = remove_na(group_data)\n"
          ],
          "name": "stderr"
        },
        {
          "output_type": "execute_result",
          "data": {
            "text/plain": [
              "<matplotlib.axes._subplots.AxesSubplot at 0x7feddd8fc0b8>"
            ]
          },
          "metadata": {
            "tags": []
          },
          "execution_count": 71
        },
        {
          "output_type": "display_data",
          "data": {
            "image/png": "[encoded data removed]",
            "text/plain": [
              "<matplotlib.figure.Figure at 0x7feddd8e85c0>"
            ]
          },
          "metadata": {
            "tags": []
          }
        }
      ]
    },
    {
      "cell_type": "code",
      "metadata": {
        "id": "XiYzreqlESHx",
        "colab_type": "code",
        "colab": {}
      },
      "source": [
        ""
      ],
      "execution_count": 0,
      "outputs": []
    },
    {
      "cell_type": "markdown",
      "metadata": {
        "id": "03OVmQ1JaRtu",
        "colab_type": "text"
      },
      "source": [
        "### Downsampled dataset with all classes"
      ]
    },
    {
      "cell_type": "code",
      "metadata": {
        "id": "61VDx7o3Adc6",
        "colab_type": "code",
        "colab": {}
      },
      "source": [
        "# Downsample the dataset to try and reduce the skew and the number of overall images\n",
        "samples = [6,8,9,10,12,13,14,15,16,17,18,20,22,24,26,27]\n",
        "  \n",
        "train_samples = train_labels\n",
        "  \n",
        "for row, index in train_samples.iterrows():\n",
        "    if any([i in train_samples.target_vec[row] for i in samples]):\n",
        "      continue\n",
        "    else:\n",
        "      train_samples = train_samples.drop([row])\n",
        "      "
      ],
      "execution_count": 0,
      "outputs": []
    },
    {
      "cell_type": "code",
      "metadata": {
        "id": "SpfTeFxDJPTJ",
        "colab_type": "code",
        "outputId": "c41c5323-70b3-4d16-b14c-1ba1112b92bd",
        "colab": {
          "base_uri": "https://localhost:8080/",
          "height": 34
        }
      },
      "source": [
        "train_samples.head()\n",
        "train_samples.shape"
      ],
      "execution_count": 0,
      "outputs": [
        {
          "output_type": "execute_result",
          "data": {
            "text/plain": [
              "(6255, 31)"
            ]
          },
          "metadata": {
            "tags": []
          },
          "execution_count": 73
        }
      ]
    },
    {
      "cell_type": "code",
      "metadata": {
        "id": "0MDxRawFM1fX",
        "colab_type": "code",
        "outputId": "214339a7-e48b-45cc-fcd4-c7dd0d31559d",
        "colab": {
          "base_uri": "https://localhost:8080/",
          "height": 914
        }
      },
      "source": [
        "#Plot down-sampled dataset distribution\n",
        "target_counts = train_samples.drop([\"Id\", \"Target\", \"target_vec\"],axis=1).sum(axis=0).sort_values(ascending=False)\n",
        "plt.figure(figsize=(15,15))\n",
        "sns.barplot(y=target_counts.index.values, x=target_counts.values, order=target_counts.index, palette=\"Spectral\")"
      ],
      "execution_count": 0,
      "outputs": [
        {
          "output_type": "stream",
          "text": [
            "/usr/local/lib/python3.6/dist-packages/seaborn/categorical.py:1428: FutureWarning: remove_na is deprecated and is a private function. Do not use.\n",
            "  stat_data = remove_na(group_data)\n"
          ],
          "name": "stderr"
        },
        {
          "output_type": "execute_result",
          "data": {
            "text/plain": [
              "<matplotlib.axes._subplots.AxesSubplot at 0x7fedc011e9b0>"
            ]
          },
          "metadata": {
            "tags": []
          },
          "execution_count": 74
        },
        {
          "output_type": "display_data",
          "data": {
            "image/png": "[encoded data removed]",
            "text/plain": [
              "<matplotlib.figure.Figure at 0x7fedaf760978>"
            ]
          },
          "metadata": {
            "tags": []
          }
        }
      ]
    },
    {
      "cell_type": "markdown",
      "metadata": {
        "id": "XhyVhmjccht9",
        "colab_type": "text"
      },
      "source": [
        "## Model Building"
      ]
    },
    {
      "cell_type": "code",
      "metadata": {
        "id": "y-FFBJbeimFI",
        "colab_type": "code",
        "outputId": "4b81d4cc-ccc4-41e2-9805-cab3229c1509",
        "colab": {
          "base_uri": "https://localhost:8080/",
          "height": 272
        }
      },
      "source": [
        "!pip install imgaug"
      ],
      "execution_count": 0,
      "outputs": [
        {
          "output_type": "stream",
          "text": [
            "Requirement already satisfied: imgaug in /usr/local/lib/python3.6/dist-packages (0.2.6)\n",
            "Requirement already satisfied: scipy in /usr/local/lib/python3.6/dist-packages (from imgaug) (1.1.0)\n",
            "Requirement already satisfied: scikit-image>=0.11.0 in /usr/local/lib/python3.6/dist-packages (from imgaug) (0.13.1)\n",
            "Requirement already satisfied: numpy>=1.7.0 in /usr/local/lib/python3.6/dist-packages (from imgaug) (1.14.6)\n",
            "Requirement already satisfied: six in /usr/local/lib/python3.6/dist-packages (from imgaug) (1.11.0)\n",
            "Requirement already satisfied: networkx>=1.8 in /usr/local/lib/python3.6/dist-packages (from scikit-image>=0.11.0->imgaug) (2.2)\n",
            "Requirement already satisfied: PyWavelets>=0.4.0 in /usr/local/lib/python3.6/dist-packages (from scikit-image>=0.11.0->imgaug) (1.0.1)\n",
            "Requirement already satisfied: matplotlib>=1.3.1 in /usr/local/lib/python3.6/dist-packages (from scikit-image>=0.11.0->imgaug) (2.1.2)\n",
            "Requirement already satisfied: pillow>=2.1.0 in /usr/local/lib/python3.6/dist-packages (from scikit-image>=0.11.0->imgaug) (4.0.0)\n",
            "Requirement already satisfied: decorator>=4.3.0 in /usr/local/lib/python3.6/dist-packages (from networkx>=1.8->scikit-image>=0.11.0->imgaug) (4.3.0)\n",
            "Requirement already satisfied: pyparsing!=2.0.4,!=2.1.2,!=2.1.6,>=2.0.1 in /usr/local/lib/python3.6/dist-packages (from matplotlib>=1.3.1->scikit-image>=0.11.0->imgaug) (2.3.0)\n",
            "Requirement already satisfied: python-dateutil>=2.1 in /usr/local/lib/python3.6/dist-packages (from matplotlib>=1.3.1->scikit-image>=0.11.0->imgaug) (2.5.3)\n",
            "Requirement already satisfied: pytz in /usr/local/lib/python3.6/dist-packages (from matplotlib>=1.3.1->scikit-image>=0.11.0->imgaug) (2018.7)\n",
            "Requirement already satisfied: cycler>=0.10 in /usr/local/lib/python3.6/dist-packages (from matplotlib>=1.3.1->scikit-image>=0.11.0->imgaug) (0.10.0)\n",
            "Requirement already satisfied: olefile in /usr/local/lib/python3.6/dist-packages (from pillow>=2.1.0->scikit-image>=0.11.0->imgaug) (0.46)\n"
          ],
          "name": "stdout"
        }
      ]
    },
    {
      "cell_type": "code",
      "metadata": {
        "id": "QGx0IZ1UilHY",
        "colab_type": "code",
        "colab": {}
      },
      "source": [
        "import sys\n",
        "import numpy as np\n",
        "import keras\n",
        "from keras.utils import Sequence\n",
        "from PIL import Image\n",
        "from matplotlib import pyplot as plt\n",
        "import pandas as pd\n",
        "from tqdm import tqdm\n",
        "import os\n",
        "import imgaug as ia\n",
        "from imgaug import augmenters as iaa\n",
        "import cv2"
      ],
      "execution_count": 0,
      "outputs": []
    },
    {
      "cell_type": "markdown",
      "metadata": {
        "id": "YDdEVbMcEqIo",
        "colab_type": "text"
      },
      "source": [
        "# ** Aggresome Only Model**"
      ]
    },
    {
      "cell_type": "code",
      "metadata": {
        "id": "kk6QpEGEtAZN",
        "colab_type": "code",
        "colab": {}
      },
      "source": [
        "# First Model build using only aggresome data with 4 Activation Functions including Relu and Softmax and a droprate of 0.25\n",
        "BATCH_SIZE = 128\n",
        "SEED = 777\n",
        "SHAPE = (512, 512,1)\n",
        "DIR = './'\n",
        "VAL_RATIO = 0.1 # 10 % as validation\n",
        "THRESHOLD = 0.05 # due to different cost of True Positive vs False Positive, this is the probability threshold to predict the class as 'yes'\n",
        "\n",
        "ia.seed(SEED)\n"
      ],
      "execution_count": 0,
      "outputs": []
    },
    {
      "cell_type": "code",
      "metadata": {
        "id": "3nJC-AqlIIh9",
        "colab_type": "code",
        "colab": {}
      },
      "source": [
        "def getTrainDataset():\n",
        "    \n",
        "    path_to_train = DIR + '/train/'\n",
        "    data = aggresome_labels\n",
        "\n",
        "    paths = []\n",
        "    labels = []\n",
        "    \n",
        "    for name, lbl in zip(data['Id'], data['Target'].str.split(' ')):\n",
        "        y = np.zeros(28)\n",
        "        for key in lbl:\n",
        "            y[int(key)] = 1\n",
        "        paths.append(os.path.join(path_to_train, name))\n",
        "        labels.append(y)\n",
        "\n",
        "    return np.array(paths), np.array(labels)\n",
        "\n",
        "def getTestDataset():\n",
        "    \n",
        "    path_to_test = DIR + '/test/'\n",
        "    data = pd.read_csv(DIR + '/sample_submission.csv')\n",
        "\n",
        "    paths = []\n",
        "    labels = []\n",
        "    \n",
        "    for name in data['Id']:\n",
        "        y = np.ones(28)\n",
        "        paths.append(os.path.join(path_to_test, name))\n",
        "        labels.append(y)\n",
        "\n",
        "    return np.array(paths), np.array(labels)"
      ],
      "execution_count": 0,
      "outputs": []
    },
    {
      "cell_type": "code",
      "metadata": {
        "id": "j45938VVhRyg",
        "colab_type": "code",
        "colab": {}
      },
      "source": [
        "# credits: https://github.com/keras-team/keras/blob/master/keras/utils/data_utils.py#L302\n",
        "# credits: https://stanford.edu/~shervine/blog/keras-how-to-generate-data-on-the-fly\n",
        "\n",
        "class ProteinDataGenerator(keras.utils.Sequence):\n",
        "            \n",
        "    def __init__(self, paths, labels, batch_size, shape, shuffle = False, use_cache = False, augment = False):\n",
        "        self.paths, self.labels = paths, labels\n",
        "        self.batch_size = batch_size\n",
        "        self.shape = shape\n",
        "        self.shuffle = shuffle\n",
        "        self.use_cache = use_cache\n",
        "        self.augment = augment\n",
        "        if use_cache == True:\n",
        "            self.cache = np.zeros((paths.shape[0], shape[0], shape[1], shape[2]), dtype=np.float16)\n",
        "            self.is_cached = np.zeros((paths.shape[0]))\n",
        "        self.on_epoch_end()\n",
        "    \n",
        "    def __len__(self):\n",
        "        return int(np.ceil(len(self.paths) / float(self.batch_size)))\n",
        "    \n",
        "    def __getitem__(self, idx):\n",
        "        indexes = self.indexes[idx * self.batch_size : (idx+1) * self.batch_size]\n",
        "\n",
        "        paths = self.paths[indexes]\n",
        "        X = np.zeros((paths.shape[0], self.shape[0], self.shape[1], self.shape[2]))\n",
        "        # Generate data\n",
        "        if self.use_cache == True:\n",
        "            X = self.cache[indexes]\n",
        "            for i, path in enumerate(paths[np.where(self.is_cached[indexes] == 0)]):\n",
        "                image = self.__load_image(path)\n",
        "                self.is_cached[indexes[i]] = 1\n",
        "                self.cache[indexes[i]] = image\n",
        "                X[i] = image\n",
        "        else:\n",
        "            for i, path in enumerate(paths):\n",
        "                X[i] = self.__load_image(path)\n",
        "\n",
        "        y = self.labels[indexes]\n",
        "                \n",
        "        if self.augment == True:\n",
        "            seq = iaa.Sequential([\n",
        "                iaa.OneOf([\n",
        "                    iaa.Fliplr(0.5), # horizontal flips\n",
        "                    iaa.Crop(percent=(0, 0.1)), # random crops\n",
        "                    # Small gaussian blur with random sigma between 0 and 0.5.\n",
        "                    # But we only blur about 50% of all images.\n",
        "                    iaa.Sometimes(0.5,\n",
        "                        iaa.GaussianBlur(sigma=(0, 0.5))\n",
        "                    ),\n",
        "                    # Strengthen or weaken the contrast in each image.\n",
        "                    iaa.ContrastNormalization((0.75, 1.5)),\n",
        "                    # Add gaussian noise.\n",
        "                    # For 50% of all images, we sample the noise once per pixel.\n",
        "                    # For the other 50% of all images, we sample the noise per pixel AND\n",
        "                    # channel. This can change the color (not only brightness) of the\n",
        "                    # pixels.\n",
        "                    iaa.AdditiveGaussianNoise(loc=0, scale=(0.0, 0.05*255), per_channel=0.5),\n",
        "                    # Make some images brighter and some darker.\n",
        "                    # In 20% of all cases, we sample the multiplier once per channel,\n",
        "                    # which can end up changing the color of the images.\n",
        "                    iaa.Multiply((0.8, 1.2), per_channel=0.2),\n",
        "                    # Apply affine transformations to each image.\n",
        "                    # Scale/zoom them, translate/move them, rotate them and shear them.\n",
        "                    iaa.Affine(\n",
        "                        scale={\"x\": (0.8, 1.2), \"y\": (0.8, 1.2)},\n",
        "                        translate_percent={\"x\": (-0.2, 0.2), \"y\": (-0.2, 0.2)},\n",
        "                        rotate=(-180, 180),\n",
        "                        shear=(-8, 8)\n",
        "                    )\n",
        "                ])], random_order=True)\n",
        "\n",
        "            X = np.concatenate((X, seq.augment_images(X), seq.augment_images(X), seq.augment_images(X)), 0)\n",
        "            y = np.concatenate((y, y, y, y), 0)\n",
        "        \n",
        "        return X, y\n",
        "    \n",
        "    def on_epoch_end(self):\n",
        "        \n",
        "        # Updates indexes after each epoch\n",
        "        self.indexes = np.arange(len(self.paths))\n",
        "        if self.shuffle == True:\n",
        "            np.random.shuffle(self.indexes)\n",
        "\n",
        "    def __iter__(self):\n",
        "        \"\"\"Create a generator that iterate over the Sequence.\"\"\"\n",
        "        for item in (self[i] for i in range(len(self))):\n",
        "            yield item\n",
        "            \n",
        "    def __load_image(self, path):\n",
        "        G = Image.open(path + '_green.png')\n",
        "\n",
        "        im = np.array(G)\n",
        "        \n",
        "        im = im.reshape([512, 512,1])\n",
        "        im = np.divide(im, 255)\n",
        "        return im"
      ],
      "execution_count": 0,
      "outputs": []
    },
    {
      "cell_type": "code",
      "metadata": {
        "id": "qAdKayQiuBbp",
        "colab_type": "code",
        "colab": {}
      },
      "source": [
        "from keras.preprocessing.image import ImageDataGenerator\n",
        "from keras.models import Sequential, load_model, Model\n",
        "from keras.layers import Activation, Dropout, Flatten, Dense, Input, Conv2D, MaxPooling2D, BatchNormalization, Concatenate, ReLU, LeakyReLU\n",
        "from keras.callbacks import ModelCheckpoint, LearningRateScheduler, EarlyStopping, ReduceLROnPlateau\n",
        "from keras import metrics\n",
        "from keras.optimizers import Adam\n",
        "from keras.callbacks import ModelCheckpoint\n",
        "from keras import backend as K\n",
        "import keras\n",
        "import tensorflow as tf\n",
        "\n",
        "from tensorflow import set_random_seed\n",
        "set_random_seed(SEED)"
      ],
      "execution_count": 0,
      "outputs": []
    },
    {
      "cell_type": "code",
      "metadata": {
        "id": "wPlrVKu0wLA5",
        "colab_type": "code",
        "colab": {}
      },
      "source": [
        "# credits: https://www.kaggle.com/guglielmocamporese/macro-f1-score-keras\n",
        "\n",
        "def f1(y_true, y_pred):\n",
        "    #y_pred = K.round(y_pred)\n",
        "    y_pred = K.cast(K.greater(K.clip(y_pred, 0, 1), THRESHOLD), K.floatx())\n",
        "    tp = K.sum(K.cast(y_true*y_pred, 'float'), axis=0)\n",
        "    tn = K.sum(K.cast((1-y_true)*(1-y_pred), 'float'), axis=0)\n",
        "    fp = K.sum(K.cast((1-y_true)*y_pred, 'float'), axis=0)\n",
        "    fn = K.sum(K.cast(y_true*(1-y_pred), 'float'), axis=0)\n",
        "\n",
        "    p = tp / (tp + fp + K.epsilon())\n",
        "    r = tp / (tp + fn + K.epsilon())\n",
        "\n",
        "    f1 = 2*p*r / (p+r+K.epsilon())\n",
        "    f1 = tf.where(tf.is_nan(f1), tf.zeros_like(f1), f1)\n",
        "    return K.mean(f1)\n",
        "\n",
        "def f1_loss(y_true, y_pred):\n",
        "    \n",
        "    #y_pred = K.cast(K.greater(K.clip(y_pred, 0, 1), THRESHOLD), K.floatx())\n",
        "    tp = K.sum(K.cast(y_true*y_pred, 'float'), axis=0)\n",
        "    tn = K.sum(K.cast((1-y_true)*(1-y_pred), 'float'), axis=0)\n",
        "    fp = K.sum(K.cast((1-y_true)*y_pred, 'float'), axis=0)\n",
        "    fn = K.sum(K.cast(y_true*(1-y_pred), 'float'), axis=0)\n",
        "\n",
        "    p = tp / (tp + fp + K.epsilon())\n",
        "    r = tp / (tp + fn + K.epsilon())\n",
        "\n",
        "    f1 = 2*p*r / (p+r+K.epsilon())\n",
        "    f1 = tf.where(tf.is_nan(f1), tf.zeros_like(f1), f1)\n",
        "    return 1-K.mean(f1)"
      ],
      "execution_count": 0,
      "outputs": []
    },
    {
      "cell_type": "code",
      "metadata": {
        "id": "zMTfGCuDoB9r",
        "colab_type": "code",
        "colab": {}
      },
      "source": [
        "def create_model(input_shape):\n",
        "    \n",
        "    dropRate = 0.25\n",
        "    \n",
        "    init = Input(input_shape)\n",
        "    x = BatchNormalization(axis=-1)(init)\n",
        "    x = Conv2D(8, (3, 3), padding=\"same\", input_shape=[512,512,1])(x)\n",
        "    x = MaxPooling2D((2,2))(x)\n",
        "    x = Conv2D(16, (3, 3), padding=\"same\")(x)\n",
        "    x = MaxPooling2D((2,2))(x)\n",
        "    x = Flatten()(x)\n",
        "    x = Dense(28, activation='relu')(x)\n",
        "    x = Dropout(0.7)(x)\n",
        "    x = Dense(28, activation='softmax')(x)\n",
        "    \n",
        "    model = Model(init, x)\n",
        "    \n",
        "    return model"
      ],
      "execution_count": 0,
      "outputs": []
    },
    {
      "cell_type": "code",
      "metadata": {
        "id": "SOzJEMd-jWwm",
        "colab_type": "code",
        "outputId": "94b8c76e-c635-4998-f95d-39d70326d1cc",
        "colab": {
          "base_uri": "https://localhost:8080/",
          "height": 476
        }
      },
      "source": [
        "model = create_model(SHAPE)\n",
        "model.compile(\n",
        "    loss='binary_crossentropy',\n",
        "    optimizer=Adam(1e-03),\n",
        "    metrics=['acc',f1])\n",
        "\n",
        "model.summary()"
      ],
      "execution_count": 0,
      "outputs": [
        {
          "output_type": "stream",
          "text": [
            "_________________________________________________________________\n",
            "Layer (type)                 Output Shape              Param #   \n",
            "=================================================================\n",
            "input_2 (InputLayer)         (None, 512, 512, 1)       0         \n",
            "_________________________________________________________________\n",
            "batch_normalization_2 (Batch (None, 512, 512, 1)       4         \n",
            "_________________________________________________________________\n",
            "conv2d_3 (Conv2D)            (None, 512, 512, 8)       80        \n",
            "_________________________________________________________________\n",
            "max_pooling2d_3 (MaxPooling2 (None, 256, 256, 8)       0         \n",
            "_________________________________________________________________\n",
            "conv2d_4 (Conv2D)            (None, 256, 256, 16)      1168      \n",
            "_________________________________________________________________\n",
            "max_pooling2d_4 (MaxPooling2 (None, 128, 128, 16)      0         \n",
            "_________________________________________________________________\n",
            "flatten_2 (Flatten)          (None, 262144)            0         \n",
            "_________________________________________________________________\n",
            "dense_3 (Dense)              (None, 28)                7340060   \n",
            "_________________________________________________________________\n",
            "dropout_2 (Dropout)          (None, 28)                0         \n",
            "_________________________________________________________________\n",
            "dense_4 (Dense)              (None, 28)                812       \n",
            "=================================================================\n",
            "Total params: 7,342,124\n",
            "Trainable params: 7,342,122\n",
            "Non-trainable params: 2\n",
            "_________________________________________________________________\n"
          ],
          "name": "stdout"
        }
      ]
    },
    {
      "cell_type": "code",
      "metadata": {
        "id": "v3K-FoSNjcWA",
        "colab_type": "code",
        "outputId": "22c8b458-391e-4c1f-f292-0b3e7c9a0f40",
        "colab": {
          "base_uri": "https://localhost:8080/",
          "height": 51
        }
      },
      "source": [
        "paths, labels = getTrainDataset()\n",
        "\n",
        "# divide to \n",
        "keys = np.arange(paths.shape[0], dtype=np.int)  \n",
        "np.random.seed(SEED)\n",
        "np.random.shuffle(keys)\n",
        "lastTrainIndex = int((1-VAL_RATIO) * paths.shape[0])\n",
        "\n",
        "pathsTrain = paths[0:lastTrainIndex]\n",
        "labelsTrain = labels[0:lastTrainIndex]\n",
        "pathsVal = paths[lastTrainIndex:]\n",
        "labelsVal = labels[lastTrainIndex:]\n",
        "\n",
        "print(paths.shape, labels.shape)\n",
        "print(pathsTrain.shape, labelsTrain.shape, pathsVal.shape, labelsVal.shape)\n",
        "\n",
        "tg = ProteinDataGenerator(pathsTrain, labelsTrain, BATCH_SIZE, SHAPE, use_cache=True, augment = False, shuffle = False)\n",
        "vg = ProteinDataGenerator(pathsVal, labelsVal, BATCH_SIZE, SHAPE, use_cache=True, shuffle = False)\n",
        "\n",
        "# https://keras.io/callbacks/#modelcheckpoint\n",
        "checkpoint = ModelCheckpoint('./base.model', monitor='val_loss', verbose=1, save_best_only=True, save_weights_only=False, mode='min', period=1)\n",
        "reduceLROnPlato = ReduceLROnPlateau(monitor='val_loss', factor=0.5, patience=3, verbose=1, mode='min')"
      ],
      "execution_count": 0,
      "outputs": [
        {
          "output_type": "stream",
          "text": [
            "(6255,) (6255, 28)\n",
            "(5629,) (5629, 28) (626,) (626, 28)\n"
          ],
          "name": "stdout"
        }
      ]
    },
    {
      "cell_type": "code",
      "metadata": {
        "id": "bNrBGC2ejow4",
        "colab_type": "code",
        "outputId": "6a90eac1-973f-408e-bda6-f01d60391c0f",
        "colab": {
          "base_uri": "https://localhost:8080/",
          "height": 2057
        }
      },
      "source": [
        "epochs = 30\n",
        "\n",
        "use_multiprocessing = False # DO NOT COMBINE MULTIPROCESSING WITH CACHE! \n",
        "workers = 1 # DO NOT COMBINE MULTIPROCESSING WITH CACHE! \n",
        "\n",
        "hist = model.fit_generator(\n",
        "    tg,\n",
        "    steps_per_epoch=len(tg),\n",
        "    validation_data=vg,\n",
        "    validation_steps=8,\n",
        "    epochs=epochs,\n",
        "    use_multiprocessing=use_multiprocessing,\n",
        "    workers=workers,\n",
        "    verbose=1,\n",
        "    callbacks=[checkpoint])"
      ],
      "execution_count": 0,
      "outputs": [
        {
          "output_type": "stream",
          "text": [
            "Epoch 1/30\n",
            "44/44 [==============================] - 79s 2s/step - loss: 0.2653 - acc: 0.9338 - f1: 0.0065 - val_loss: 0.2534 - val_acc: 0.9334 - val_f1: 0.0000e+00\n",
            "\n",
            "Epoch 00001: val_loss improved from inf to 0.25339, saving model to ./base.model\n",
            "Epoch 2/30\n",
            "44/44 [==============================] - 39s 892ms/step - loss: 0.2493 - acc: 0.9344 - f1: 1.2790e-04 - val_loss: 0.2505 - val_acc: 0.9336 - val_f1: 0.0000e+00\n",
            "\n",
            "Epoch 00002: val_loss improved from 0.25339 to 0.25046, saving model to ./base.model\n",
            "Epoch 3/30\n",
            "44/44 [==============================] - 39s 891ms/step - loss: 0.2469 - acc: 0.9344 - f1: 0.0000e+00 - val_loss: 0.2471 - val_acc: 0.9339 - val_f1: 0.0000e+00\n",
            "\n",
            "Epoch 00003: val_loss improved from 0.25046 to 0.24711, saving model to ./base.model\n",
            "Epoch 4/30\n",
            "44/44 [==============================] - 39s 889ms/step - loss: 0.2448 - acc: 0.9344 - f1: 0.0000e+00 - val_loss: 0.2451 - val_acc: 0.9340 - val_f1: 0.0000e+00\n",
            "\n",
            "Epoch 00004: val_loss improved from 0.24711 to 0.24506, saving model to ./base.model\n",
            "Epoch 5/30\n",
            "44/44 [==============================] - 39s 889ms/step - loss: 0.2428 - acc: 0.9344 - f1: 0.0000e+00 - val_loss: 0.2428 - val_acc: 0.9341 - val_f1: 0.0000e+00\n",
            "\n",
            "Epoch 00005: val_loss improved from 0.24506 to 0.24277, saving model to ./base.model\n",
            "Epoch 6/30\n",
            "44/44 [==============================] - 39s 887ms/step - loss: 0.2410 - acc: 0.9344 - f1: 0.0000e+00 - val_loss: 0.2430 - val_acc: 0.9334 - val_f1: 0.0000e+00\n",
            "\n",
            "Epoch 00006: val_loss did not improve from 0.24277\n",
            "Epoch 7/30\n",
            "44/44 [==============================] - 39s 888ms/step - loss: 0.2394 - acc: 0.9344 - f1: 0.0066 - val_loss: 0.2410 - val_acc: 0.9336 - val_f1: 0.0276\n",
            "\n",
            "Epoch 00007: val_loss improved from 0.24277 to 0.24105, saving model to ./base.model\n",
            "Epoch 8/30\n",
            "44/44 [==============================] - 39s 881ms/step - loss: 0.2382 - acc: 0.9344 - f1: 0.0495 - val_loss: 0.2381 - val_acc: 0.9339 - val_f1: 0.0559\n",
            "\n",
            "Epoch 00008: val_loss improved from 0.24105 to 0.23807, saving model to ./base.model\n",
            "Epoch 9/30\n",
            "44/44 [==============================] - 39s 891ms/step - loss: 0.2364 - acc: 0.9344 - f1: 0.0633 - val_loss: 0.2368 - val_acc: 0.9340 - val_f1: 0.0641\n",
            "\n",
            "Epoch 00009: val_loss improved from 0.23807 to 0.23676, saving model to ./base.model\n",
            "Epoch 10/30\n",
            "44/44 [==============================] - 39s 884ms/step - loss: 0.2348 - acc: 0.9344 - f1: 0.0649 - val_loss: 0.2350 - val_acc: 0.9341 - val_f1: 0.0644\n",
            "\n",
            "Epoch 00010: val_loss improved from 0.23676 to 0.23504, saving model to ./base.model\n",
            "Epoch 11/30\n",
            "44/44 [==============================] - 39s 891ms/step - loss: 0.2335 - acc: 0.9344 - f1: 0.0693 - val_loss: 0.2356 - val_acc: 0.9334 - val_f1: 0.0728\n",
            "\n",
            "Epoch 00011: val_loss did not improve from 0.23504\n",
            "Epoch 12/30\n",
            "44/44 [==============================] - 39s 888ms/step - loss: 0.2323 - acc: 0.9344 - f1: 0.0719 - val_loss: 0.2343 - val_acc: 0.9336 - val_f1: 0.0722\n",
            "\n",
            "Epoch 00012: val_loss improved from 0.23504 to 0.23429, saving model to ./base.model\n",
            "Epoch 13/30\n",
            "44/44 [==============================] - 39s 881ms/step - loss: 0.2311 - acc: 0.9344 - f1: 0.0719 - val_loss: 0.2317 - val_acc: 0.9339 - val_f1: 0.0727\n",
            "\n",
            "Epoch 00013: val_loss improved from 0.23429 to 0.23166, saving model to ./base.model\n",
            "Epoch 14/30\n",
            "44/44 [==============================] - 39s 887ms/step - loss: 0.2301 - acc: 0.9344 - f1: 0.0719 - val_loss: 0.2309 - val_acc: 0.9340 - val_f1: 0.0723\n",
            "\n",
            "Epoch 00014: val_loss improved from 0.23166 to 0.23093, saving model to ./base.model\n",
            "Epoch 15/30\n",
            "44/44 [==============================] - 39s 884ms/step - loss: 0.2291 - acc: 0.9344 - f1: 0.0719 - val_loss: 0.2296 - val_acc: 0.9341 - val_f1: 0.0720\n",
            "\n",
            "Epoch 00015: val_loss improved from 0.23093 to 0.22961, saving model to ./base.model\n",
            "Epoch 16/30\n",
            "44/44 [==============================] - 39s 884ms/step - loss: 0.2282 - acc: 0.9344 - f1: 0.0719 - val_loss: 0.2304 - val_acc: 0.9334 - val_f1: 0.0728\n",
            "\n",
            "Epoch 00016: val_loss did not improve from 0.22961\n",
            "Epoch 17/30\n",
            "44/44 [==============================] - 39s 883ms/step - loss: 0.2273 - acc: 0.9344 - f1: 0.0719 - val_loss: 0.2296 - val_acc: 0.9336 - val_f1: 0.0722\n",
            "\n",
            "Epoch 00017: val_loss did not improve from 0.22961\n",
            "Epoch 18/30\n",
            "44/44 [==============================] - 39s 887ms/step - loss: 0.2265 - acc: 0.9344 - f1: 0.0719 - val_loss: 0.2272 - val_acc: 0.9339 - val_f1: 0.0727\n",
            "\n",
            "Epoch 00018: val_loss improved from 0.22961 to 0.22718, saving model to ./base.model\n",
            "Epoch 19/30\n",
            "44/44 [==============================] - 39s 886ms/step - loss: 0.2258 - acc: 0.9344 - f1: 0.0719 - val_loss: 0.2269 - val_acc: 0.9340 - val_f1: 0.0723\n",
            "\n",
            "Epoch 00019: val_loss improved from 0.22718 to 0.22688, saving model to ./base.model\n",
            "Epoch 20/30\n",
            "44/44 [==============================] - 39s 884ms/step - loss: 0.2251 - acc: 0.9344 - f1: 0.0719 - val_loss: 0.2259 - val_acc: 0.9341 - val_f1: 0.0720\n",
            "\n",
            "Epoch 00020: val_loss improved from 0.22688 to 0.22586, saving model to ./base.model\n",
            "Epoch 21/30\n",
            "44/44 [==============================] - 39s 881ms/step - loss: 0.2245 - acc: 0.9344 - f1: 0.0719 - val_loss: 0.2269 - val_acc: 0.9334 - val_f1: 0.0728\n",
            "\n",
            "Epoch 00021: val_loss did not improve from 0.22586\n",
            "Epoch 22/30\n",
            "44/44 [==============================] - 39s 879ms/step - loss: 0.2239 - acc: 0.9344 - f1: 0.0719 - val_loss: 0.2264 - val_acc: 0.9336 - val_f1: 0.0722\n",
            "\n",
            "Epoch 00022: val_loss did not improve from 0.22586\n",
            "Epoch 23/30\n",
            "44/44 [==============================] - 39s 879ms/step - loss: 0.2234 - acc: 0.9344 - f1: 0.0719 - val_loss: 0.2241 - val_acc: 0.9339 - val_f1: 0.0727\n",
            "\n",
            "Epoch 00023: val_loss improved from 0.22586 to 0.22408, saving model to ./base.model\n",
            "Epoch 24/30\n",
            "44/44 [==============================] - 39s 883ms/step - loss: 0.2228 - acc: 0.9344 - f1: 0.0719 - val_loss: 0.2241 - val_acc: 0.9340 - val_f1: 0.0723\n",
            "\n",
            "Epoch 00024: val_loss did not improve from 0.22408\n",
            "Epoch 25/30\n",
            "44/44 [==============================] - 39s 884ms/step - loss: 0.2224 - acc: 0.9344 - f1: 0.0719 - val_loss: 0.2233 - val_acc: 0.9341 - val_f1: 0.0720\n",
            "\n",
            "Epoch 00025: val_loss improved from 0.22408 to 0.22328, saving model to ./base.model\n",
            "Epoch 26/30\n",
            "44/44 [==============================] - 39s 883ms/step - loss: 0.2219 - acc: 0.9344 - f1: 0.0719 - val_loss: 0.2244 - val_acc: 0.9334 - val_f1: 0.0728\n",
            "\n",
            "Epoch 00026: val_loss did not improve from 0.22328\n",
            "Epoch 27/30\n",
            "44/44 [==============================] - 39s 882ms/step - loss: 0.2215 - acc: 0.9344 - f1: 0.0719 - val_loss: 0.2242 - val_acc: 0.9336 - val_f1: 0.0722\n",
            "\n",
            "Epoch 00027: val_loss did not improve from 0.22328\n",
            "Epoch 28/30\n",
            "44/44 [==============================] - 39s 881ms/step - loss: 0.2211 - acc: 0.9344 - f1: 0.0719 - val_loss: 0.2219 - val_acc: 0.9339 - val_f1: 0.0727\n",
            "\n",
            "Epoch 00028: val_loss improved from 0.22328 to 0.22195, saving model to ./base.model\n",
            "Epoch 29/30\n",
            "44/44 [==============================] - 39s 882ms/step - loss: 0.2208 - acc: 0.9344 - f1: 0.0719 - val_loss: 0.2222 - val_acc: 0.9340 - val_f1: 0.0723\n",
            "\n",
            "Epoch 00029: val_loss did not improve from 0.22195\n",
            "Epoch 30/30\n",
            "44/44 [==============================] - 39s 882ms/step - loss: 0.2205 - acc: 0.9344 - f1: 0.0719 - val_loss: 0.2215 - val_acc: 0.9341 - val_f1: 0.0720\n",
            "\n",
            "Epoch 00030: val_loss improved from 0.22195 to 0.22151, saving model to ./base.model\n"
          ],
          "name": "stdout"
        }
      ]
    },
    {
      "cell_type": "markdown",
      "metadata": {
        "id": "RxvXu1k8d15f",
        "colab_type": "text"
      },
      "source": [
        "### Model All"
      ]
    },
    {
      "cell_type": "code",
      "metadata": {
        "id": "dLCosWrcFzXp",
        "colab_type": "code",
        "colab": {}
      },
      "source": [
        "BATCH_SIZE = 128\n",
        "SEED = 777\n",
        "SHAPE = (512, 512,1)\n",
        "DIR = './'\n",
        "VAL_RATIO = 0.1 # 10 % as validation\n",
        "THRESHOLD = 0.05 # due to different cost of True Positive vs False Positive, this is the probability threshold to predict the class as 'yes'\n",
        "\n",
        "ia.seed(SEED)"
      ],
      "execution_count": 0,
      "outputs": []
    },
    {
      "cell_type": "code",
      "metadata": {
        "id": "Z3yJLJ1GF3sD",
        "colab_type": "code",
        "colab": {}
      },
      "source": [
        "def getTrainDataset():\n",
        "    \n",
        "    path_to_train = DIR + '/train/'\n",
        "    data = train_samples\n",
        "\n",
        "    paths = []\n",
        "    labels = []\n",
        "    \n",
        "    for name, lbl in zip(data['Id'], data['Target'].str.split(' ')):\n",
        "        y = np.zeros(28)\n",
        "        for key in lbl:\n",
        "            y[int(key)] = 1\n",
        "        paths.append(os.path.join(path_to_train, name))\n",
        "        labels.append(y)\n",
        "\n",
        "    return np.array(paths), np.array(labels)\n",
        "\n",
        "def getTestDataset():\n",
        "    \n",
        "    path_to_test = DIR + '/test/'\n",
        "    data = pd.read_csv(DIR + '/sample_submission.csv')\n",
        "\n",
        "    paths = []\n",
        "    labels = []\n",
        "    \n",
        "    for name in data['Id']:\n",
        "        y = np.ones(28)\n",
        "        paths.append(os.path.join(path_to_test, name))\n",
        "        labels.append(y)\n",
        "\n",
        "    return np.array(paths), np.array(labels)"
      ],
      "execution_count": 0,
      "outputs": []
    },
    {
      "cell_type": "code",
      "metadata": {
        "id": "aqb6Ge21F6OX",
        "colab_type": "code",
        "colab": {}
      },
      "source": [
        "modelAll = create_model(SHAPE)\n",
        "modelAll.compile(\n",
        "    loss='binary_crossentropy',\n",
        "    optimizer=Adam(1e-03),\n",
        "    metrics=['acc',f1])\n",
        "\n",
        "modelAll.summary()"
      ],
      "execution_count": 0,
      "outputs": []
    },
    {
      "cell_type": "code",
      "metadata": {
        "id": "uMELW6i2F9BH",
        "colab_type": "code",
        "colab": {}
      },
      "source": [
        "paths, labels = getTrainDataset()\n",
        "\n",
        "# divide to \n",
        "keys = np.arange(paths.shape[0], dtype=np.int)  \n",
        "np.random.seed(SEED)\n",
        "np.random.shuffle(keys)\n",
        "lastTrainIndex = int((1-VAL_RATIO) * paths.shape[0])\n",
        "\n",
        "pathsTrain = paths[0:lastTrainIndex]\n",
        "labelsTrain = labels[0:lastTrainIndex]\n",
        "pathsVal = paths[lastTrainIndex:]\n",
        "labelsVal = labels[lastTrainIndex:]\n",
        "\n",
        "print(paths.shape, labels.shape)\n",
        "print(pathsTrain.shape, labelsTrain.shape, pathsVal.shape, labelsVal.shape)\n",
        "\n",
        "tg = ProteinDataGenerator(pathsTrain, labelsTrain, BATCH_SIZE, SHAPE, use_cache=True, augment = False, shuffle = False)\n",
        "vg = ProteinDataGenerator(pathsVal, labelsVal, BATCH_SIZE, SHAPE, use_cache=True, shuffle = False)\n",
        "\n",
        "# https://keras.io/callbacks/#modelcheckpoint\n",
        "checkpoint = ModelCheckpoint('./base.model', monitor='val_loss', verbose=1, save_best_only=True, save_weights_only=False, mode='min', period=1)\n",
        "reduceLROnPlato = ReduceLROnPlateau(monitor='val_loss', factor=0.5, patience=3, verbose=1, mode='min')"
      ],
      "execution_count": 0,
      "outputs": []
    },
    {
      "cell_type": "code",
      "metadata": {
        "id": "9ey4rISMGALi",
        "colab_type": "code",
        "colab": {}
      },
      "source": [
        "epochs = 30\n",
        "\n",
        "use_multiprocessing = False # DO NOT COMBINE MULTIPROCESSING WITH CACHE! \n",
        "workers = 1 # DO NOT COMBINE MULTIPROCESSING WITH CACHE! \n",
        "\n",
        "historyAll = modelAll.fit_generator(\n",
        "    tg,\n",
        "    steps_per_epoch=len(tg),\n",
        "    validation_data=vg,\n",
        "    validation_steps=8,\n",
        "    epochs=epochs,\n",
        "    use_multiprocessing=use_multiprocessing,\n",
        "    workers=workers,\n",
        "    verbose=1,\n",
        "    callbacks=[checkpoint])"
      ],
      "execution_count": 0,
      "outputs": []
    },
    {
      "cell_type": "code",
      "metadata": {
        "id": "n4HOK8uyGCPG",
        "colab_type": "code",
        "colab": {}
      },
      "source": [
        "import matplotlib.pyplot as plt\n",
        "%matplotlib inline\n",
        "accuracy = historyAll.history['acc']\n",
        "loss = historyAll.history['loss']\n",
        "epochs = range(len(accuracy))\n",
        "plt.plot(epochs, accuracy, 'bo', label='Training Accuracy')\n",
        "plt.legend()\n",
        "plt.figure()\n",
        "plt.plot(epochs, loss, 'bo', label='Training Loss')\n",
        "plt.legend()\n",
        "plt.show()"
      ],
      "execution_count": 0,
      "outputs": []
    },
    {
      "cell_type": "markdown",
      "metadata": {
        "id": "zNTNJrGJeIhD",
        "colab_type": "text"
      },
      "source": [
        "### ModelA"
      ]
    },
    {
      "cell_type": "code",
      "metadata": {
        "id": "RNsgf13kGF1q",
        "colab_type": "code",
        "colab": {}
      },
      "source": [
        "# 5 Activation Features using Sigmoid and Softmax with a drop rate of 0.1\n",
        "def create_model(input_shape):\n",
        "    \n",
        "    dropRate = 0.1\n",
        "    \n",
        "    init = Input(input_shape)\n",
        "    x = BatchNormalization(axis=-1)(init)\n",
        "    x = Conv2D(8, (3, 3), padding=\"same\", activation='sigmoid', input_shape=[512,512,1])(x)\n",
        "    x = MaxPooling2D((2,2))(x)\n",
        "    x = Conv2D(8, (3, 3), padding=\"same\", activation='sigmoid', input_shape=[512,512,1])(x)\n",
        "    x = MaxPooling2D((2,2))(x)\n",
        "    x = Conv2D(16, (3, 3), padding=\"same\")(x)\n",
        "    x = MaxPooling2D((2,2))(x)\n",
        "    x = Flatten()(x)\n",
        "    x = Dense(28, activation='sigmoid')(x)\n",
        "    x = Dropout(0.7)(x)\n",
        "    x = Dense(28, activation='softmax')(x)\n",
        "    \n",
        "    model = Model(init, x)\n",
        "    \n",
        "    return model"
      ],
      "execution_count": 0,
      "outputs": []
    },
    {
      "cell_type": "code",
      "metadata": {
        "id": "VQIu6um6GTpQ",
        "colab_type": "code",
        "colab": {}
      },
      "source": [
        "modelA = create_model(SHAPE)\n",
        "modelA.compile(\n",
        "    loss='binary_crossentropy',\n",
        "    optimizer=Adam(1e-03),\n",
        "    metrics=['acc',f1])\n",
        "\n",
        "modelA.summary()"
      ],
      "execution_count": 0,
      "outputs": []
    },
    {
      "cell_type": "code",
      "metadata": {
        "id": "Rcdo7XaSGV1K",
        "colab_type": "code",
        "colab": {}
      },
      "source": [
        "paths, labels = getTrainDataset()\n",
        "\n",
        "# divide to \n",
        "keys = np.arange(paths.shape[0], dtype=np.int)  \n",
        "np.random.seed(SEED)\n",
        "np.random.shuffle(keys)\n",
        "lastTrainIndex = int((1-VAL_RATIO) * paths.shape[0])\n",
        "\n",
        "pathsTrain = paths[0:lastTrainIndex]\n",
        "labelsTrain = labels[0:lastTrainIndex]\n",
        "pathsVal = paths[lastTrainIndex:]\n",
        "labelsVal = labels[lastTrainIndex:]\n",
        "\n",
        "print(paths.shape, labels.shape)\n",
        "print(pathsTrain.shape, labelsTrain.shape, pathsVal.shape, labelsVal.shape)\n",
        "\n",
        "tg = ProteinDataGenerator(pathsTrain, labelsTrain, BATCH_SIZE, SHAPE, use_cache=True, augment = False, shuffle = False)\n",
        "vg = ProteinDataGenerator(pathsVal, labelsVal, BATCH_SIZE, SHAPE, use_cache=True, shuffle = False)\n",
        "\n",
        "# https://keras.io/callbacks/#modelcheckpoint\n",
        "checkpoint = ModelCheckpoint('./base.model', monitor='val_loss', verbose=1, save_best_only=True, save_weights_only=False, mode='min', period=1)\n",
        "reduceLROnPlato = ReduceLROnPlateau(monitor='val_loss', factor=0.5, patience=3, verbose=1, mode='min')"
      ],
      "execution_count": 0,
      "outputs": []
    },
    {
      "cell_type": "code",
      "metadata": {
        "id": "bgH25GyIGYf2",
        "colab_type": "code",
        "colab": {}
      },
      "source": [
        "epochs = 30\n",
        "\n",
        "use_multiprocessing = False # DO NOT COMBINE MULTIPROCESSING WITH CACHE! \n",
        "workers = 1 # DO NOT COMBINE MULTIPROCESSING WITH CACHE! \n",
        "\n",
        "historyA = modelA.fit_generator(\n",
        "    tg,\n",
        "    steps_per_epoch=len(tg),\n",
        "    validation_data=vg,\n",
        "    validation_steps=8,\n",
        "    epochs=epochs,\n",
        "    use_multiprocessing=use_multiprocessing,\n",
        "    workers=workers,\n",
        "    verbose=1,\n",
        "    callbacks=[checkpoint])"
      ],
      "execution_count": 0,
      "outputs": []
    },
    {
      "cell_type": "code",
      "metadata": {
        "id": "jRZDvyAPGcrI",
        "colab_type": "code",
        "colab": {}
      },
      "source": [
        "import matplotlib.pyplot as plt\n",
        "%matplotlib inline\n",
        "accuracy = historyA.history['acc']\n",
        "loss = historyA.history['loss']\n",
        "epochs = range(len(accuracy))\n",
        "plt.plot(epochs, accuracy, 'bo', label='Training Accuracy')\n",
        "plt.legend()\n",
        "plt.figure()\n",
        "plt.plot(epochs, loss, 'bo', label='Training Loss')\n",
        "plt.legend()\n",
        "plt.show()"
      ],
      "execution_count": 0,
      "outputs": []
    },
    {
      "cell_type": "markdown",
      "metadata": {
        "id": "jDKDQyRLeEIa",
        "colab_type": "text"
      },
      "source": [
        "### ModelB"
      ]
    },
    {
      "cell_type": "code",
      "metadata": {
        "id": "iX-3YDjUGq3U",
        "colab_type": "code",
        "colab": {}
      },
      "source": [
        "# Model B created using 7 Activation Functions Sigmoid and Softmax with a 0.1 droprate\n",
        "def create_model(input_shape):\n",
        "    \n",
        "    dropRate = 0.1\n",
        "    \n",
        "    init = Input(input_shape)\n",
        "    x = BatchNormalization(axis=-1)(init)\n",
        "    x = Conv2D(8, (3, 3), padding=\"same\", activation='sigmoid', input_shape=[512,512,1])(x)\n",
        "    x = MaxPooling2D((2,2))(x)\n",
        "    x = Conv2D(8, (3, 3), padding=\"same\", activation='sigmoid', input_shape=[512,512,1])(x)\n",
        "    x = MaxPooling2D((2,2))(x)\n",
        "    x = Conv2D(8, (3, 3), padding=\"same\", activation='sigmoid', input_shape=[512,512,1])(x)\n",
        "    x = MaxPooling2D((2,2))(x)\n",
        "    x = Conv2D(8, (3, 3), padding=\"same\", activation='sigmoid', input_shape=[512,512,1])(x)\n",
        "    x = MaxPooling2D((2,2))(x)\n",
        "    x = Conv2D(16, (3, 3), padding=\"same\")(x)\n",
        "    x = MaxPooling2D((2,2))(x)\n",
        "    x = Flatten()(x)\n",
        "    x = Dense(28, activation='sigmoid')(x)\n",
        "    x = Dropout(0.7)(x)\n",
        "    x = Dense(28, activation='softmax')(x)\n",
        "    \n",
        "    model = Model(init, x)\n",
        "    \n",
        "    return model"
      ],
      "execution_count": 0,
      "outputs": []
    },
    {
      "cell_type": "code",
      "metadata": {
        "id": "qVR6q2TBG2J_",
        "colab_type": "code",
        "colab": {}
      },
      "source": [
        "modelB = create_model(SHAPE)\n",
        "modelB.compile(\n",
        "    loss='binary_crossentropy',\n",
        "    optimizer=Adam(1e-03),\n",
        "    metrics=['acc',f1])\n",
        "\n",
        "modelB.summary()"
      ],
      "execution_count": 0,
      "outputs": []
    },
    {
      "cell_type": "code",
      "metadata": {
        "id": "OJ6r4ieWG37S",
        "colab_type": "code",
        "colab": {}
      },
      "source": [
        "paths, labels = getTrainDataset()\n",
        "\n",
        "# divide to \n",
        "keys = np.arange(paths.shape[0], dtype=np.int)  \n",
        "np.random.seed(SEED)\n",
        "np.random.shuffle(keys)\n",
        "lastTrainIndex = int((1-VAL_RATIO) * paths.shape[0])\n",
        "\n",
        "pathsTrain = paths[0:lastTrainIndex]\n",
        "labelsTrain = labels[0:lastTrainIndex]\n",
        "pathsVal = paths[lastTrainIndex:]\n",
        "labelsVal = labels[lastTrainIndex:]\n",
        "\n",
        "print(paths.shape, labels.shape)\n",
        "print(pathsTrain.shape, labelsTrain.shape, pathsVal.shape, labelsVal.shape)\n",
        "\n",
        "tg = ProteinDataGenerator(pathsTrain, labelsTrain, BATCH_SIZE, SHAPE, use_cache=True, augment = False, shuffle = False)\n",
        "vg = ProteinDataGenerator(pathsVal, labelsVal, BATCH_SIZE, SHAPE, use_cache=True, shuffle = False)\n",
        "\n",
        "# https://keras.io/callbacks/#modelcheckpoint\n",
        "checkpoint = ModelCheckpoint('./base.model', monitor='val_loss', verbose=1, save_best_only=True, save_weights_only=False, mode='min', period=1)\n",
        "reduceLROnPlato = ReduceLROnPlateau(monitor='val_loss', factor=0.5, patience=3, verbose=1, mode='min')"
      ],
      "execution_count": 0,
      "outputs": []
    },
    {
      "cell_type": "code",
      "metadata": {
        "id": "98KQH9UlG6fw",
        "colab_type": "code",
        "colab": {}
      },
      "source": [
        "epochs = 30\n",
        "\n",
        "use_multiprocessing = False # DO NOT COMBINE MULTIPROCESSING WITH CACHE! \n",
        "workers = 1 # DO NOT COMBINE MULTIPROCESSING WITH CACHE! \n",
        "\n",
        "historyB = modelB.fit_generator(\n",
        "    tg,\n",
        "    steps_per_epoch=len(tg),\n",
        "    validation_data=vg,\n",
        "    validation_steps=8,\n",
        "    epochs=epochs,\n",
        "    use_multiprocessing=use_multiprocessing,\n",
        "    workers=workers,\n",
        "    verbose=1,\n",
        "    callbacks=[checkpoint])"
      ],
      "execution_count": 0,
      "outputs": []
    },
    {
      "cell_type": "code",
      "metadata": {
        "id": "gotyK6LAG_AA",
        "colab_type": "code",
        "colab": {}
      },
      "source": [
        "import matplotlib.pyplot as plt\n",
        "%matplotlib inline\n",
        "accuracy = historyB.history['acc']\n",
        "loss = historyB.history['loss']\n",
        "epochs = range(len(accuracy))\n",
        "plt.plot(epochs, accuracy, 'bo', label='Training Accuracy')\n",
        "plt.legend()\n",
        "plt.figure()\n",
        "plt.plot(epochs, loss, 'bo', label='Training Loss')\n",
        "plt.legend()\n",
        "plt.show()"
      ],
      "execution_count": 0,
      "outputs": []
    },
    {
      "cell_type": "markdown",
      "metadata": {
        "id": "pbm9Ai99eLvd",
        "colab_type": "text"
      },
      "source": [
        "### ModelC"
      ]
    },
    {
      "cell_type": "code",
      "metadata": {
        "id": "4SmTyRFyG_4a",
        "colab_type": "code",
        "colab": {}
      },
      "source": [
        "# Model C created using 8 Activation Features Sigmoid and Softmax with a 0.1 droprate\n",
        "def create_model(input_shape):\n",
        "    \n",
        "    dropRate = 0.1\n",
        "    \n",
        "    init = Input(input_shape)\n",
        "    x = BatchNormalization(axis=-1)(init)\n",
        "    x = Conv2D(8, (3, 3), padding=\"same\", activation='sigmoid', input_shape=[512,512,1])(x)\n",
        "    x = MaxPooling2D((2,2))(x)\n",
        "    x = Conv2D(8, (3, 3), padding=\"same\", activation='sigmoid', input_shape=[512,512,1])(x)\n",
        "    x = MaxPooling2D((2,2))(x)\n",
        "    x = Conv2D(8, (3, 3), padding=\"same\", activation='sigmoid', input_shape=[512,512,1])(x)\n",
        "    x = MaxPooling2D((2,2))(x)\n",
        "    x = Conv2D(16, (3, 3), padding=\"same\", activation='sigmoid', input_shape=[512,512,1])(x)\n",
        "    x = MaxPooling2D((2,2))(x)\n",
        "    x = Conv2D(28, (3, 3), padding=\"same\", activation='sigmoid', input_shape=[512,512,1])(x)\n",
        "    x = MaxPooling2D((2,2))(x)\n",
        "    x = Conv2D(28, (3, 3), padding=\"same\", activation='sigmoid', input_shape=[512,512,1])(x)\n",
        "    x = MaxPooling2D((2,2))(x)\n",
        "    x = Flatten()(x)\n",
        "    x = Dense(28, activation='sigmoid')(x)\n",
        "    x = Dropout(0.7)(x)\n",
        "    x = Dense(28, activation='softmax')(x)\n",
        "    \n",
        "    model = Model(init, x)\n",
        "    \n",
        "    return model"
      ],
      "execution_count": 0,
      "outputs": []
    },
    {
      "cell_type": "code",
      "metadata": {
        "id": "hxzYLoovHK8l",
        "colab_type": "code",
        "colab": {}
      },
      "source": [
        "modelC = create_model(SHAPE)\n",
        "modelC.compile(\n",
        "    loss='binary_crossentropy',\n",
        "    optimizer=Adam(1e-03),\n",
        "    metrics=['acc',f1])\n",
        "\n",
        "modelC.summary()"
      ],
      "execution_count": 0,
      "outputs": []
    },
    {
      "cell_type": "code",
      "metadata": {
        "id": "n69_yLGnHMtX",
        "colab_type": "code",
        "colab": {}
      },
      "source": [
        "paths, labels = getTrainDataset()\n",
        "\n",
        "# divide to \n",
        "keys = np.arange(paths.shape[0], dtype=np.int)  \n",
        "np.random.seed(SEED)\n",
        "np.random.shuffle(keys)\n",
        "lastTrainIndex = int((1-VAL_RATIO) * paths.shape[0])\n",
        "\n",
        "pathsTrain = paths[0:lastTrainIndex]\n",
        "labelsTrain = labels[0:lastTrainIndex]\n",
        "pathsVal = paths[lastTrainIndex:]\n",
        "labelsVal = labels[lastTrainIndex:]\n",
        "\n",
        "print(paths.shape, labels.shape)\n",
        "print(pathsTrain.shape, labelsTrain.shape, pathsVal.shape, labelsVal.shape)\n",
        "\n",
        "tg = ProteinDataGenerator(pathsTrain, labelsTrain, BATCH_SIZE, SHAPE, use_cache=True, augment = False, shuffle = False)\n",
        "vg = ProteinDataGenerator(pathsVal, labelsVal, BATCH_SIZE, SHAPE, use_cache=True, shuffle = False)\n",
        "\n",
        "# https://keras.io/callbacks/#modelcheckpoint\n",
        "checkpoint = ModelCheckpoint('./base.model', monitor='val_loss', verbose=1, save_best_only=True, save_weights_only=False, mode='min', period=1)\n",
        "reduceLROnPlato = ReduceLROnPlateau(monitor='val_loss', factor=0.5, patience=3, verbose=1, mode='min')"
      ],
      "execution_count": 0,
      "outputs": []
    },
    {
      "cell_type": "code",
      "metadata": {
        "id": "ZFC-Zr85HPFs",
        "colab_type": "code",
        "colab": {}
      },
      "source": [
        "epochs = 30\n",
        "\n",
        "use_multiprocessing = False # DO NOT COMBINE MULTIPROCESSING WITH CACHE! \n",
        "workers = 1 # DO NOT COMBINE MULTIPROCESSING WITH CACHE! \n",
        "\n",
        "historyC = modelC.fit_generator(\n",
        "    tg,\n",
        "    steps_per_epoch=len(tg),\n",
        "    validation_data=vg,\n",
        "    validation_steps=8,\n",
        "    epochs=epochs,\n",
        "    use_multiprocessing=use_multiprocessing,\n",
        "    workers=workers,\n",
        "    verbose=1,\n",
        "    callbacks=[checkpoint])"
      ],
      "execution_count": 0,
      "outputs": []
    },
    {
      "cell_type": "code",
      "metadata": {
        "id": "dxxZXsNHHS8d",
        "colab_type": "code",
        "colab": {}
      },
      "source": [
        "import matplotlib.pyplot as plt\n",
        "%matplotlib inline\n",
        "accuracy = historyC.history['acc']\n",
        "loss = historyC.history['loss']\n",
        "epochs = range(len(accuracy))\n",
        "plt.plot(epochs, accuracy, 'bo', label='Training Accuracy')\n",
        "plt.legend()\n",
        "plt.figure()\n",
        "plt.plot(epochs, loss, 'bo', label='Training Loss')\n",
        "plt.legend()\n",
        "plt.show()"
      ],
      "execution_count": 0,
      "outputs": []
    },
    {
      "cell_type": "markdown",
      "metadata": {
        "id": "3AYXISSEDBLn",
        "colab_type": "text"
      },
      "source": [
        "## Evaluation of Model Performance"
      ]
    },
    {
      "cell_type": "code",
      "metadata": {
        "id": "YNyQln-nGGli",
        "colab_type": "code",
        "outputId": "90fcc265-e965-49b4-b5de-40265ae07a10",
        "colab": {
          "base_uri": "https://localhost:8080/",
          "height": 352
        }
      },
      "source": [
        "#ModelAll - Loss and F1 Acc\n",
        "\n",
        "fig, ax = plt.subplots(1, 2, figsize=(15,5))\n",
        "ax[0].set_title('loss')\n",
        "ax[0].plot(hist.epoch, hist.history[\"loss\"], label=\"Train loss\")\n",
        "ax[0].plot(hist.epoch, hist.history[\"val_loss\"], label=\"Validation loss\")\n",
        "ax[1].set_title('acc')\n",
        "ax[1].plot(hist.epoch, hist.history[\"f1\"], label=\"Train F1\")\n",
        "ax[1].plot(hist.epoch, hist.history[\"val_f1\"], label=\"Validation F1\")\n",
        "ax[0].legend()\n",
        "ax[1].legend()"
      ],
      "execution_count": 0,
      "outputs": [
        {
          "output_type": "execute_result",
          "data": {
            "text/plain": [
              "<matplotlib.legend.Legend at 0x7fedaf674668>"
            ]
          },
          "metadata": {
            "tags": []
          },
          "execution_count": 88
        },
        {
          "output_type": "display_data",
          "data": {
            "image/png": "[encoded data removed]",
            "text/plain": [
              "<matplotlib.figure.Figure at 0x7fedc01e30b8>"
            ]
          },
          "metadata": {
            "tags": []
          }
        }
      ]
    },
    {
      "cell_type": "code",
      "metadata": {
        "id": "NlNmXKqBV69w",
        "colab_type": "code",
        "colab": {}
      },
      "source": [
        "#ModelA - Loss and F1 Acc\n",
        "\n",
        "fig, ax = plt.subplots(1, 2, figsize=(15,5))\n",
        "ax[0].set_title('loss')\n",
        "ax[0].plot(historyA.epoch, historyA.history[\"loss\"], label=\"Train loss\")\n",
        "ax[0].plot(historyA.epoch, historyA.history[\"val_loss\"], label=\"Validation loss\")\n",
        "ax[1].set_title('acc')\n",
        "ax[1].plot(historyA.epoch, historyA.history[\"f1\"], label=\"Train F1\")\n",
        "ax[1].plot(historyA.epoch, historyA.history[\"val_f1\"], label=\"Validation F1\")\n",
        "ax[0].legend()\n",
        "ax[1].legend()"
      ],
      "execution_count": 0,
      "outputs": []
    },
    {
      "cell_type": "code",
      "metadata": {
        "id": "7cHDcZ3GWZ-l",
        "colab_type": "code",
        "colab": {}
      },
      "source": [
        "#ModelB - Loss and F1 Acc\n",
        "\n",
        "fig, ax = plt.subplots(1, 2, figsize=(15,5))\n",
        "ax[0].set_title('loss')\n",
        "ax[0].plot(historyB.epoch, historyB.history[\"loss\"], label=\"Train loss\")\n",
        "ax[0].plot(historyB.epoch, historyB.history[\"val_loss\"], label=\"Validation loss\")\n",
        "ax[1].set_title('acc')\n",
        "ax[1].plot(historyB.epoch, historyB.history[\"f1\"], label=\"Train F1\")\n",
        "ax[1].plot(historyB.epoch, historyB.history[\"val_f1\"], label=\"Validation F1\")\n",
        "ax[0].legend()\n",
        "ax[1].legend()"
      ],
      "execution_count": 0,
      "outputs": []
    },
    {
      "cell_type": "code",
      "metadata": {
        "id": "MwWPQ7FTWcgc",
        "colab_type": "code",
        "colab": {}
      },
      "source": [
        "#ModelC - Loss and F1 Acc\n",
        "\n",
        "fig, ax = plt.subplots(1, 2, figsize=(15,5))\n",
        "ax[0].set_title('loss')\n",
        "ax[0].plot(historyC.epoch, historyC.history[\"loss\"], label=\"Train loss\")\n",
        "ax[0].plot(historyC.epoch, historyC.history[\"val_loss\"], label=\"Validation loss\")\n",
        "ax[1].set_title('acc')\n",
        "ax[1].plot(historyC.epoch, historyC.history[\"f1\"], label=\"Train F1\")\n",
        "ax[1].plot(historyC.epoch, historyC.history[\"val_f1\"], label=\"Validation F1\")\n",
        "ax[0].legend()\n",
        "ax[1].legend()"
      ],
      "execution_count": 0,
      "outputs": []
    },
    {
      "cell_type": "code",
      "metadata": {
        "id": "iRP_t50LGGxe",
        "colab_type": "code",
        "colab": {}
      },
      "source": [
        "bestModel = load_model('./base.model', custom_objects={'f1': f1}) #, 'f1_loss': f1_loss})"
      ],
      "execution_count": 0,
      "outputs": []
    },
    {
      "cell_type": "code",
      "metadata": {
        "id": "nO3kp-iSGG8Z",
        "colab_type": "code",
        "colab": {}
      },
      "source": [
        "fullValGen = vg"
      ],
      "execution_count": 0,
      "outputs": []
    },
    {
      "cell_type": "code",
      "metadata": {
        "id": "7ObiypHpGHH3",
        "colab_type": "code",
        "outputId": "c337933f-2aee-43b7-8486-2496ddfee4c7",
        "colab": {
          "base_uri": "https://localhost:8080/",
          "height": 51
        }
      },
      "source": [
        "lastFullValPred = np.empty((0, 28))\n",
        "lastFullValLabels = np.empty((0, 28))\n",
        "for i in tqdm(range(len(fullValGen))): \n",
        "    im, lbl = fullValGen[i]\n",
        "    scores = bestModel.predict(im)\n",
        "    lastFullValPred = np.append(lastFullValPred, scores, axis=0)\n",
        "    lastFullValLabels = np.append(lastFullValLabels, lbl, axis=0)\n",
        "print(lastFullValPred.shape, lastFullValLabels.shape)"
      ],
      "execution_count": 0,
      "outputs": [
        {
          "output_type": "stream",
          "text": [
            "100%|██████████| 5/5 [00:03<00:00,  1.64it/s]"
          ],
          "name": "stderr"
        },
        {
          "output_type": "stream",
          "text": [
            "(626, 28) (626, 28)\n"
          ],
          "name": "stdout"
        },
        {
          "output_type": "stream",
          "text": [
            "\n"
          ],
          "name": "stderr"
        }
      ]
    },
    {
      "cell_type": "code",
      "metadata": {
        "id": "-EJiQzDLGgX_",
        "colab_type": "code",
        "outputId": "c23aeaae-97a5-40c9-c7a7-43be9513fac8",
        "colab": {
          "base_uri": "https://localhost:8080/",
          "height": 122
        }
      },
      "source": [
        "from sklearn.metrics import f1_score as off1\n",
        "rng = np.arange(0, 1, 0.001)\n",
        "f1s = np.zeros((rng.shape[0], 28))\n",
        "for j,t in enumerate(tqdm(rng)):\n",
        "    for i in range(28):\n",
        "        p = np.array(lastFullValPred[:,i]>t, dtype=np.int8)\n",
        "        scoref1 = off1(lastFullValLabels[:,i], p, average='binary')\n",
        "        f1s[j,i] = scoref1"
      ],
      "execution_count": 0,
      "outputs": [
        {
          "output_type": "stream",
          "text": [
            "  0%|          | 0/1000 [00:00<?, ?it/s]/usr/local/lib/python3.6/dist-packages/sklearn/metrics/classification.py:1145: UndefinedMetricWarning: F-score is ill-defined and being set to 0.0 due to no true samples.\n",
            "  'recall', 'true', average, warn_for)\n",
            "  1%|          | 10/1000 [00:00<00:20, 47.71it/s]/usr/local/lib/python3.6/dist-packages/sklearn/metrics/classification.py:1143: UndefinedMetricWarning: F-score is ill-defined and being set to 0.0 due to no predicted samples.\n",
            "  'precision', 'predicted', average, warn_for)\n",
            "100%|██████████| 1000/1000 [00:22<00:00, 46.20it/s]\n"
          ],
          "name": "stderr"
        }
      ]
    },
    {
      "cell_type": "code",
      "metadata": {
        "id": "qjAOCgRDGHCc",
        "colab_type": "code",
        "outputId": "6bce9684-ce9a-4396-8916-b29cb8e99fe5",
        "colab": {
          "base_uri": "https://localhost:8080/",
          "height": 136
        }
      },
      "source": [
        "print('Individual F1-scores for each class:')\n",
        "print(np.max(f1s, axis=0))\n",
        "print('Macro F1-score CV =', np.mean(np.max(f1s, axis=0)))"
      ],
      "execution_count": 0,
      "outputs": [
        {
          "output_type": "stream",
          "text": [
            "Individual F1-scores for each class:\n",
            "[0.45622688 0.01898734 0.1030303  0.00636943 0.04068858 0.04984424\n",
            " 0.23413258 0.07384615 0.02834646 0.01269841 0.00953895 0.01898734\n",
            " 0.22159091 0.1257485  0.29891304 0.00636943 0.16691069 0.04984424\n",
            " 0.25869263 0.03453689 0.02834646 0.19856115 0.25139665 0.04375\n",
            " 0.08854962 0.31493943 0.11445783 0.        ]\n",
            "Macro F1-score CV = 0.11626086175595139\n"
          ],
          "name": "stdout"
        }
      ]
    },
    {
      "cell_type": "code",
      "metadata": {
        "id": "uyZs6zogGG5M",
        "colab_type": "code",
        "outputId": "e4d60f7d-e285-43cb-d31e-e79f58eab2b0",
        "colab": {
          "base_uri": "https://localhost:8080/",
          "height": 398
        }
      },
      "source": [
        "plt.plot(rng, f1s)\n",
        "T = np.empty(28)\n",
        "for i in range(28):\n",
        "    T[i] = rng[np.where(f1s[:,i] == np.max(f1s[:,i]))[0][0]]\n",
        "print('Probability threshold maximizing CV F1-score for each class:')\n",
        "print(T)"
      ],
      "execution_count": 0,
      "outputs": [
        {
          "output_type": "stream",
          "text": [
            "Probability threshold maximizing CV F1-score for each class:\n",
            "[0. 0. 0. 0. 0. 0. 0. 0. 0. 0. 0. 0. 0. 0. 0. 0. 0. 0. 0. 0. 0. 0. 0. 0.\n",
            " 0. 0. 0. 0.]\n"
          ],
          "name": "stdout"
        },
        {
          "output_type": "display_data",
          "data": {
            "image/png": "[encoded data removed]",
            "text/plain": [
              "<matplotlib.figure.Figure at 0x7feddc1168d0>"
            ]
          },
          "metadata": {
            "tags": []
          }
        }
      ]
    },
    {
      "cell_type": "code",
      "metadata": {
        "id": "YT865cInGG2C",
        "colab_type": "code",
        "outputId": "57462438-5f86-416d-b8e5-1395e828ae7b",
        "colab": {
          "base_uri": "https://localhost:8080/",
          "height": 34
        }
      },
      "source": [
        "# Get Test Data and predict classifications\n",
        "\n",
        "pathsTest, labelsTest = getTestDataset()\n",
        "\n",
        "testg = ProteinDataGenerator(pathsTest, labelsTest, BATCH_SIZE, SHAPE)\n",
        "submit = pd.read_csv(DIR + '/sample_submission.csv')\n",
        "P = np.zeros((pathsTest.shape[0], 28))\n",
        "for i in tqdm(range(len(testg))):\n",
        "    images, labels = testg[i]\n",
        "    score = bestModel.predict(images)\n",
        "    P[i*BATCH_SIZE:i*BATCH_SIZE+score.shape[0]] = score"
      ],
      "execution_count": 0,
      "outputs": [
        {
          "output_type": "stream",
          "text": [
            "100%|██████████| 92/92 [01:51<00:00,  1.02it/s]\n"
          ],
          "name": "stderr"
        }
      ]
    },
    {
      "cell_type": "code",
      "metadata": {
        "id": "_11xAcUeGsSt",
        "colab_type": "code",
        "outputId": "3f6eae7c-c6eb-402d-92db-c3e2959bef63",
        "colab": {
          "base_uri": "https://localhost:8080/",
          "height": 34
        }
      },
      "source": [
        "#Create csv for Kaggle submittion\n",
        "\n",
        "PP = np.array(P)\n",
        "\n",
        "prediction = []\n",
        "\n",
        "for row in tqdm(range(submit.shape[0])):\n",
        "    \n",
        "    str_label = ''\n",
        "    \n",
        "    for col in range(PP.shape[1]):\n",
        "        if(PP[row, col] < T[col]):\n",
        "            str_label += ''\n",
        "        else:\n",
        "            str_label += str(col) + ' '\n",
        "    prediction.append(str_label.strip())\n",
        "    \n",
        "submit['Predicted'] = np.array(prediction)\n",
        "submit.to_csv('Test_Predictions.csv', index=False)"
      ],
      "execution_count": 0,
      "outputs": [
        {
          "output_type": "stream",
          "text": [
            "100%|██████████| 11702/11702 [00:00<00:00, 35890.54it/s]\n"
          ],
          "name": "stderr"
        }
      ]
    },
    {
      "cell_type": "code",
      "metadata": {
        "id": "44IN0UttGsO7",
        "colab_type": "code",
        "outputId": "9a5e59aa-63ac-4b17-e2fc-7efb57b0d886",
        "colab": {
          "base_uri": "https://localhost:8080/",
          "height": 1969
        }
      },
      "source": [
        "#Check Labels for Predicted\n",
        "\n",
        "submit"
      ],
      "execution_count": 0,
      "outputs": [
        {
          "output_type": "execute_result",
          "data": {
            "text/html": [
              "<div>\n",
              "<style scoped>\n",
              "    .dataframe tbody tr th:only-of-type {\n",
              "        vertical-align: middle;\n",
              "    }\n",
              "\n",
              "    .dataframe tbody tr th {\n",
              "        vertical-align: top;\n",
              "    }\n",
              "\n",
              "    .dataframe thead th {\n",
              "        text-align: right;\n",
              "    }\n",
              "</style>\n",
              "<table border=\"1\" class=\"dataframe\">\n",
              "  <thead>\n",
              "    <tr style=\"text-align: right;\">\n",
              "      <th></th>\n",
              "      <th>Id</th>\n",
              "      <th>Predicted</th>\n",
              "    </tr>\n",
              "  </thead>\n",
              "  <tbody>\n",
              "    <tr>\n",
              "      <th>0</th>\n",
              "      <td>00008af0-bad0-11e8-b2b8-ac1f6b6435d0</td>\n",
              "      <td>0 1 2 3 4 5 6 7 8 9 10 11 12 13 14 15 16 17 18...</td>\n",
              "    </tr>\n",
              "    <tr>\n",
              "      <th>1</th>\n",
              "      <td>0000a892-bacf-11e8-b2b8-ac1f6b6435d0</td>\n",
              "      <td>0 1 2 3 4 5 6 7 8 9 10 11 12 13 14 15 16 17 18...</td>\n",
              "    </tr>\n",
              "    <tr>\n",
              "      <th>2</th>\n",
              "      <td>0006faa6-bac7-11e8-b2b7-ac1f6b6435d0</td>\n",
              "      <td>0 1 2 3 4 5 6 7 8 9 10 11 12 13 14 15 16 17 18...</td>\n",
              "    </tr>\n",
              "    <tr>\n",
              "      <th>3</th>\n",
              "      <td>0008baca-bad7-11e8-b2b9-ac1f6b6435d0</td>\n",
              "      <td>0 1 2 3 4 5 6 7 8 9 10 11 12 13 14 15 16 17 18...</td>\n",
              "    </tr>\n",
              "    <tr>\n",
              "      <th>4</th>\n",
              "      <td>000cce7e-bad4-11e8-b2b8-ac1f6b6435d0</td>\n",
              "      <td>0 1 2 3 4 5 6 7 8 9 10 11 12 13 14 15 16 17 18...</td>\n",
              "    </tr>\n",
              "    <tr>\n",
              "      <th>5</th>\n",
              "      <td>00109f6a-bac8-11e8-b2b7-ac1f6b6435d0</td>\n",
              "      <td>0 1 2 3 4 5 6 7 8 9 10 11 12 13 14 15 16 17 18...</td>\n",
              "    </tr>\n",
              "    <tr>\n",
              "      <th>6</th>\n",
              "      <td>001765de-bacd-11e8-b2b8-ac1f6b6435d0</td>\n",
              "      <td>0 1 2 3 4 5 6 7 8 9 10 11 12 13 14 15 16 17 18...</td>\n",
              "    </tr>\n",
              "    <tr>\n",
              "      <th>7</th>\n",
              "      <td>0018641a-bac9-11e8-b2b8-ac1f6b6435d0</td>\n",
              "      <td>0 1 2 3 4 5 6 7 8 9 10 11 12 13 14 15 16 17 18...</td>\n",
              "    </tr>\n",
              "    <tr>\n",
              "      <th>8</th>\n",
              "      <td>00200f22-bad7-11e8-b2b9-ac1f6b6435d0</td>\n",
              "      <td>0 1 2 3 4 5 6 7 8 9 10 11 12 13 14 15 16 17 18...</td>\n",
              "    </tr>\n",
              "    <tr>\n",
              "      <th>9</th>\n",
              "      <td>0026f154-bac6-11e8-b2b7-ac1f6b6435d0</td>\n",
              "      <td>0 1 2 3 4 5 6 7 8 9 10 11 12 13 14 15 16 17 18...</td>\n",
              "    </tr>\n",
              "    <tr>\n",
              "      <th>10</th>\n",
              "      <td>002729d2-bace-11e8-b2b8-ac1f6b6435d0</td>\n",
              "      <td>0 1 2 3 4 5 6 7 8 9 10 11 12 13 14 15 16 17 18...</td>\n",
              "    </tr>\n",
              "    <tr>\n",
              "      <th>11</th>\n",
              "      <td>002c1a7c-bad4-11e8-b2b8-ac1f6b6435d0</td>\n",
              "      <td>0 1 2 3 4 5 6 7 8 9 10 11 12 13 14 15 16 17 18...</td>\n",
              "    </tr>\n",
              "    <tr>\n",
              "      <th>12</th>\n",
              "      <td>003170fa-bacd-11e8-b2b8-ac1f6b6435d0</td>\n",
              "      <td>0 1 2 3 4 5 6 7 8 9 10 11 12 13 14 15 16 17 18...</td>\n",
              "    </tr>\n",
              "    <tr>\n",
              "      <th>13</th>\n",
              "      <td>0031820a-baca-11e8-b2b8-ac1f6b6435d0</td>\n",
              "      <td>0 1 2 3 4 5 6 7 8 9 10 11 12 13 14 15 16 17 18...</td>\n",
              "    </tr>\n",
              "    <tr>\n",
              "      <th>14</th>\n",
              "      <td>00407c16-bad3-11e8-b2b8-ac1f6b6435d0</td>\n",
              "      <td>0 1 2 3 4 5 6 7 8 9 10 11 12 13 14 15 16 17 18...</td>\n",
              "    </tr>\n",
              "    <tr>\n",
              "      <th>15</th>\n",
              "      <td>005ce2ea-bacc-11e8-b2b8-ac1f6b6435d0</td>\n",
              "      <td>0 1 2 3 4 5 6 7 8 9 10 11 12 13 14 15 16 17 18...</td>\n",
              "    </tr>\n",
              "    <tr>\n",
              "      <th>16</th>\n",
              "      <td>00631ec8-bad9-11e8-b2b9-ac1f6b6435d0</td>\n",
              "      <td>0 1 2 3 4 5 6 7 8 9 10 11 12 13 14 15 16 17 18...</td>\n",
              "    </tr>\n",
              "    <tr>\n",
              "      <th>17</th>\n",
              "      <td>00673f64-bad2-11e8-b2b8-ac1f6b6435d0</td>\n",
              "      <td>0 1 2 3 4 5 6 7 8 9 10 11 12 13 14 15 16 17 18...</td>\n",
              "    </tr>\n",
              "    <tr>\n",
              "      <th>18</th>\n",
              "      <td>0070171c-bad0-11e8-b2b8-ac1f6b6435d0</td>\n",
              "      <td>0 1 2 3 4 5 6 7 8 9 10 11 12 13 14 15 16 17 18...</td>\n",
              "    </tr>\n",
              "    <tr>\n",
              "      <th>19</th>\n",
              "      <td>007290b6-bad8-11e8-b2b9-ac1f6b6435d0</td>\n",
              "      <td>0 1 2 3 4 5 6 7 8 9 10 11 12 13 14 15 16 17 18...</td>\n",
              "    </tr>\n",
              "    <tr>\n",
              "      <th>20</th>\n",
              "      <td>0075ee26-bacb-11e8-b2b8-ac1f6b6435d0</td>\n",
              "      <td>0 1 2 3 4 5 6 7 8 9 10 11 12 13 14 15 16 17 18...</td>\n",
              "    </tr>\n",
              "    <tr>\n",
              "      <th>21</th>\n",
              "      <td>00763d66-bacd-11e8-b2b8-ac1f6b6435d0</td>\n",
              "      <td>0 1 2 3 4 5 6 7 8 9 10 11 12 13 14 15 16 17 18...</td>\n",
              "    </tr>\n",
              "    <tr>\n",
              "      <th>22</th>\n",
              "      <td>007eca68-bac7-11e8-b2b7-ac1f6b6435d0</td>\n",
              "      <td>0 1 2 3 4 5 6 7 8 9 10 11 12 13 14 15 16 17 18...</td>\n",
              "    </tr>\n",
              "    <tr>\n",
              "      <th>23</th>\n",
              "      <td>008ab0b8-bad5-11e8-b2b8-ac1f6b6435d0</td>\n",
              "      <td>0 1 2 3 4 5 6 7 8 9 10 11 12 13 14 15 16 17 18...</td>\n",
              "    </tr>\n",
              "    <tr>\n",
              "      <th>24</th>\n",
              "      <td>008e8c3e-bad4-11e8-b2b8-ac1f6b6435d0</td>\n",
              "      <td>0 1 2 3 4 5 6 7 8 9 10 11 12 13 14 15 16 17 18...</td>\n",
              "    </tr>\n",
              "    <tr>\n",
              "      <th>25</th>\n",
              "      <td>009131e6-baca-11e8-b2b8-ac1f6b6435d0</td>\n",
              "      <td>0 1 2 3 4 5 6 7 8 9 10 11 12 13 14 15 16 17 18...</td>\n",
              "    </tr>\n",
              "    <tr>\n",
              "      <th>26</th>\n",
              "      <td>0094159e-bad1-11e8-b2b8-ac1f6b6435d0</td>\n",
              "      <td>0 1 2 3 4 5 6 7 8 9 10 11 12 13 14 15 16 17 18...</td>\n",
              "    </tr>\n",
              "    <tr>\n",
              "      <th>27</th>\n",
              "      <td>0097a5c2-bac9-11e8-b2b8-ac1f6b6435d0</td>\n",
              "      <td>0 1 2 3 4 5 6 7 8 9 10 11 12 13 14 15 16 17 18...</td>\n",
              "    </tr>\n",
              "    <tr>\n",
              "      <th>28</th>\n",
              "      <td>009d32e4-bad3-11e8-b2b8-ac1f6b6435d0</td>\n",
              "      <td>0 1 2 3 4 5 6 7 8 9 10 11 12 13 14 15 16 17 18...</td>\n",
              "    </tr>\n",
              "    <tr>\n",
              "      <th>29</th>\n",
              "      <td>00a4925a-bad8-11e8-b2b9-ac1f6b6435d0</td>\n",
              "      <td>0 1 2 3 4 5 6 7 8 9 10 11 12 13 14 15 16 17 18...</td>\n",
              "    </tr>\n",
              "    <tr>\n",
              "      <th>...</th>\n",
              "      <td>...</td>\n",
              "      <td>...</td>\n",
              "    </tr>\n",
              "    <tr>\n",
              "      <th>11672</th>\n",
              "      <td>ff2cd716-bad7-11e8-b2b9-ac1f6b6435d0</td>\n",
              "      <td>0 1 2 3 4 5 6 7 8 9 10 11 12 13 14 15 16 17 18...</td>\n",
              "    </tr>\n",
              "    <tr>\n",
              "      <th>11673</th>\n",
              "      <td>ff2d3abc-bad7-11e8-b2b9-ac1f6b6435d0</td>\n",
              "      <td>0 1 2 3 4 5 6 7 8 9 10 11 12 13 14 15 16 17 18...</td>\n",
              "    </tr>\n",
              "    <tr>\n",
              "      <th>11674</th>\n",
              "      <td>ff38cec0-bad4-11e8-b2b8-ac1f6b6435d0</td>\n",
              "      <td>0 1 2 3 4 5 6 7 8 9 10 11 12 13 14 15 16 17 18...</td>\n",
              "    </tr>\n",
              "    <tr>\n",
              "      <th>11675</th>\n",
              "      <td>ff489096-bad7-11e8-b2b9-ac1f6b6435d0</td>\n",
              "      <td>0 1 2 3 4 5 6 7 8 9 10 11 12 13 14 15 16 17 18...</td>\n",
              "    </tr>\n",
              "    <tr>\n",
              "      <th>11676</th>\n",
              "      <td>ff49d834-bad2-11e8-b2b8-ac1f6b6435d0</td>\n",
              "      <td>0 1 2 3 4 5 6 7 8 9 10 11 12 13 14 15 16 17 18...</td>\n",
              "    </tr>\n",
              "    <tr>\n",
              "      <th>11677</th>\n",
              "      <td>ff4aa9a4-bac7-11e8-b2b7-ac1f6b6435d0</td>\n",
              "      <td>0 1 2 3 4 5 6 7 8 9 10 11 12 13 14 15 16 17 18...</td>\n",
              "    </tr>\n",
              "    <tr>\n",
              "      <th>11678</th>\n",
              "      <td>ff5464dc-baca-11e8-b2b8-ac1f6b6435d0</td>\n",
              "      <td>0 1 2 3 4 5 6 7 8 9 10 11 12 13 14 15 16 17 18...</td>\n",
              "    </tr>\n",
              "    <tr>\n",
              "      <th>11679</th>\n",
              "      <td>ff56b30a-bace-11e8-b2b8-ac1f6b6435d0</td>\n",
              "      <td>0 1 2 3 4 5 6 7 8 9 10 11 12 13 14 15 16 17 18...</td>\n",
              "    </tr>\n",
              "    <tr>\n",
              "      <th>11680</th>\n",
              "      <td>ff581dac-bac5-11e8-b2b7-ac1f6b6435d0</td>\n",
              "      <td>0 1 2 3 4 5 6 7 8 9 10 11 12 13 14 15 16 17 18...</td>\n",
              "    </tr>\n",
              "    <tr>\n",
              "      <th>11681</th>\n",
              "      <td>ff5ee18c-baca-11e8-b2b8-ac1f6b6435d0</td>\n",
              "      <td>0 1 2 3 4 5 6 7 8 9 10 11 12 13 14 15 16 17 18...</td>\n",
              "    </tr>\n",
              "    <tr>\n",
              "      <th>11682</th>\n",
              "      <td>ff67db02-baca-11e8-b2b8-ac1f6b6435d0</td>\n",
              "      <td>0 1 2 3 4 5 6 7 8 9 10 11 12 13 14 15 16 17 18...</td>\n",
              "    </tr>\n",
              "    <tr>\n",
              "      <th>11683</th>\n",
              "      <td>ff7cc20c-bad3-11e8-b2b8-ac1f6b6435d0</td>\n",
              "      <td>0 1 2 3 4 5 6 7 8 9 10 11 12 13 14 15 16 17 18...</td>\n",
              "    </tr>\n",
              "    <tr>\n",
              "      <th>11684</th>\n",
              "      <td>ff7dc452-bad5-11e8-b2b9-ac1f6b6435d0</td>\n",
              "      <td>0 1 2 3 4 5 6 7 8 9 10 11 12 13 14 15 16 17 18...</td>\n",
              "    </tr>\n",
              "    <tr>\n",
              "      <th>11685</th>\n",
              "      <td>ff8346fa-bad7-11e8-b2b9-ac1f6b6435d0</td>\n",
              "      <td>0 1 2 3 4 5 6 7 8 9 10 11 12 13 14 15 16 17 18...</td>\n",
              "    </tr>\n",
              "    <tr>\n",
              "      <th>11686</th>\n",
              "      <td>ff8e580c-bad1-11e8-b2b8-ac1f6b6435d0</td>\n",
              "      <td>0 1 2 3 4 5 6 7 8 9 10 11 12 13 14 15 16 17 18...</td>\n",
              "    </tr>\n",
              "    <tr>\n",
              "      <th>11687</th>\n",
              "      <td>ff9659a0-bacf-11e8-b2b8-ac1f6b6435d0</td>\n",
              "      <td>0 1 2 3 4 5 6 7 8 9 10 11 12 13 14 15 16 17 18...</td>\n",
              "    </tr>\n",
              "    <tr>\n",
              "      <th>11688</th>\n",
              "      <td>ff9bdfd8-baca-11e8-b2b8-ac1f6b6435d0</td>\n",
              "      <td>0 1 2 3 4 5 6 7 8 9 10 11 12 13 14 15 16 17 18...</td>\n",
              "    </tr>\n",
              "    <tr>\n",
              "      <th>11689</th>\n",
              "      <td>ff9ccd2a-bad0-11e8-b2b8-ac1f6b6435d0</td>\n",
              "      <td>0 1 2 3 4 5 6 7 8 9 10 11 12 13 14 15 16 17 18...</td>\n",
              "    </tr>\n",
              "    <tr>\n",
              "      <th>11690</th>\n",
              "      <td>ffa6bc7e-bad3-11e8-b2b8-ac1f6b6435d0</td>\n",
              "      <td>0 1 2 3 4 5 6 7 8 9 10 11 12 13 14 15 16 17 18...</td>\n",
              "    </tr>\n",
              "    <tr>\n",
              "      <th>11691</th>\n",
              "      <td>ffad96dc-bad5-11e8-b2b9-ac1f6b6435d0</td>\n",
              "      <td>0 1 2 3 4 5 6 7 8 9 10 11 12 13 14 15 16 17 18...</td>\n",
              "    </tr>\n",
              "    <tr>\n",
              "      <th>11692</th>\n",
              "      <td>ffb91448-bac7-11e8-b2b7-ac1f6b6435d0</td>\n",
              "      <td>0 1 2 3 4 5 6 7 8 9 10 11 12 13 14 15 16 17 18...</td>\n",
              "    </tr>\n",
              "    <tr>\n",
              "      <th>11693</th>\n",
              "      <td>ffd677a0-bada-11e8-b2b9-ac1f6b6435d0</td>\n",
              "      <td>0 1 2 3 4 5 6 7 8 9 10 11 12 13 14 15 16 17 18...</td>\n",
              "    </tr>\n",
              "    <tr>\n",
              "      <th>11694</th>\n",
              "      <td>ffd72db2-bad5-11e8-b2b9-ac1f6b6435d0</td>\n",
              "      <td>0 1 2 3 4 5 6 7 8 9 10 11 12 13 14 15 16 17 18...</td>\n",
              "    </tr>\n",
              "    <tr>\n",
              "      <th>11695</th>\n",
              "      <td>ffd83fa4-bacb-11e8-b2b8-ac1f6b6435d0</td>\n",
              "      <td>0 1 2 3 4 5 6 7 8 9 10 11 12 13 14 15 16 17 18...</td>\n",
              "    </tr>\n",
              "    <tr>\n",
              "      <th>11696</th>\n",
              "      <td>ffd91122-bad0-11e8-b2b8-ac1f6b6435d0</td>\n",
              "      <td>0 1 2 3 4 5 6 7 8 9 10 11 12 13 14 15 16 17 18...</td>\n",
              "    </tr>\n",
              "    <tr>\n",
              "      <th>11697</th>\n",
              "      <td>ffdfb96a-bad4-11e8-b2b8-ac1f6b6435d0</td>\n",
              "      <td>0 1 2 3 4 5 6 7 8 9 10 11 12 13 14 15 16 17 18...</td>\n",
              "    </tr>\n",
              "    <tr>\n",
              "      <th>11698</th>\n",
              "      <td>ffdfc590-bad4-11e8-b2b8-ac1f6b6435d0</td>\n",
              "      <td>0 1 2 3 4 5 6 7 8 9 10 11 12 13 14 15 16 17 18...</td>\n",
              "    </tr>\n",
              "    <tr>\n",
              "      <th>11699</th>\n",
              "      <td>ffecb8a4-bad4-11e8-b2b8-ac1f6b6435d0</td>\n",
              "      <td>0 1 2 3 4 5 6 7 8 9 10 11 12 13 14 15 16 17 18...</td>\n",
              "    </tr>\n",
              "    <tr>\n",
              "      <th>11700</th>\n",
              "      <td>fff03816-bad5-11e8-b2b9-ac1f6b6435d0</td>\n",
              "      <td>0 1 2 3 4 5 6 7 8 9 10 11 12 13 14 15 16 17 18...</td>\n",
              "    </tr>\n",
              "    <tr>\n",
              "      <th>11701</th>\n",
              "      <td>fffe6f9c-bacd-11e8-b2b8-ac1f6b6435d0</td>\n",
              "      <td>0 1 2 3 4 5 6 7 8 9 10 11 12 13 14 15 16 17 18...</td>\n",
              "    </tr>\n",
              "  </tbody>\n",
              "</table>\n",
              "<p>11702 rows × 2 columns</p>\n",
              "</div>"
            ],
            "text/plain": [
              "                                         Id  \\\n",
              "0      00008af0-bad0-11e8-b2b8-ac1f6b6435d0   \n",
              "1      0000a892-bacf-11e8-b2b8-ac1f6b6435d0   \n",
              "2      0006faa6-bac7-11e8-b2b7-ac1f6b6435d0   \n",
              "3      0008baca-bad7-11e8-b2b9-ac1f6b6435d0   \n",
              "4      000cce7e-bad4-11e8-b2b8-ac1f6b6435d0   \n",
              "5      00109f6a-bac8-11e8-b2b7-ac1f6b6435d0   \n",
              "6      001765de-bacd-11e8-b2b8-ac1f6b6435d0   \n",
              "7      0018641a-bac9-11e8-b2b8-ac1f6b6435d0   \n",
              "8      00200f22-bad7-11e8-b2b9-ac1f6b6435d0   \n",
              "9      0026f154-bac6-11e8-b2b7-ac1f6b6435d0   \n",
              "10     002729d2-bace-11e8-b2b8-ac1f6b6435d0   \n",
              "11     002c1a7c-bad4-11e8-b2b8-ac1f6b6435d0   \n",
              "12     003170fa-bacd-11e8-b2b8-ac1f6b6435d0   \n",
              "13     0031820a-baca-11e8-b2b8-ac1f6b6435d0   \n",
              "14     00407c16-bad3-11e8-b2b8-ac1f6b6435d0   \n",
              "15     005ce2ea-bacc-11e8-b2b8-ac1f6b6435d0   \n",
              "16     00631ec8-bad9-11e8-b2b9-ac1f6b6435d0   \n",
              "17     00673f64-bad2-11e8-b2b8-ac1f6b6435d0   \n",
              "18     0070171c-bad0-11e8-b2b8-ac1f6b6435d0   \n",
              "19     007290b6-bad8-11e8-b2b9-ac1f6b6435d0   \n",
              "20     0075ee26-bacb-11e8-b2b8-ac1f6b6435d0   \n",
              "21     00763d66-bacd-11e8-b2b8-ac1f6b6435d0   \n",
              "22     007eca68-bac7-11e8-b2b7-ac1f6b6435d0   \n",
              "23     008ab0b8-bad5-11e8-b2b8-ac1f6b6435d0   \n",
              "24     008e8c3e-bad4-11e8-b2b8-ac1f6b6435d0   \n",
              "25     009131e6-baca-11e8-b2b8-ac1f6b6435d0   \n",
              "26     0094159e-bad1-11e8-b2b8-ac1f6b6435d0   \n",
              "27     0097a5c2-bac9-11e8-b2b8-ac1f6b6435d0   \n",
              "28     009d32e4-bad3-11e8-b2b8-ac1f6b6435d0   \n",
              "29     00a4925a-bad8-11e8-b2b9-ac1f6b6435d0   \n",
              "...                                     ...   \n",
              "11672  ff2cd716-bad7-11e8-b2b9-ac1f6b6435d0   \n",
              "11673  ff2d3abc-bad7-11e8-b2b9-ac1f6b6435d0   \n",
              "11674  ff38cec0-bad4-11e8-b2b8-ac1f6b6435d0   \n",
              "11675  ff489096-bad7-11e8-b2b9-ac1f6b6435d0   \n",
              "11676  ff49d834-bad2-11e8-b2b8-ac1f6b6435d0   \n",
              "11677  ff4aa9a4-bac7-11e8-b2b7-ac1f6b6435d0   \n",
              "11678  ff5464dc-baca-11e8-b2b8-ac1f6b6435d0   \n",
              "11679  ff56b30a-bace-11e8-b2b8-ac1f6b6435d0   \n",
              "11680  ff581dac-bac5-11e8-b2b7-ac1f6b6435d0   \n",
              "11681  ff5ee18c-baca-11e8-b2b8-ac1f6b6435d0   \n",
              "11682  ff67db02-baca-11e8-b2b8-ac1f6b6435d0   \n",
              "11683  ff7cc20c-bad3-11e8-b2b8-ac1f6b6435d0   \n",
              "11684  ff7dc452-bad5-11e8-b2b9-ac1f6b6435d0   \n",
              "11685  ff8346fa-bad7-11e8-b2b9-ac1f6b6435d0   \n",
              "11686  ff8e580c-bad1-11e8-b2b8-ac1f6b6435d0   \n",
              "11687  ff9659a0-bacf-11e8-b2b8-ac1f6b6435d0   \n",
              "11688  ff9bdfd8-baca-11e8-b2b8-ac1f6b6435d0   \n",
              "11689  ff9ccd2a-bad0-11e8-b2b8-ac1f6b6435d0   \n",
              "11690  ffa6bc7e-bad3-11e8-b2b8-ac1f6b6435d0   \n",
              "11691  ffad96dc-bad5-11e8-b2b9-ac1f6b6435d0   \n",
              "11692  ffb91448-bac7-11e8-b2b7-ac1f6b6435d0   \n",
              "11693  ffd677a0-bada-11e8-b2b9-ac1f6b6435d0   \n",
              "11694  ffd72db2-bad5-11e8-b2b9-ac1f6b6435d0   \n",
              "11695  ffd83fa4-bacb-11e8-b2b8-ac1f6b6435d0   \n",
              "11696  ffd91122-bad0-11e8-b2b8-ac1f6b6435d0   \n",
              "11697  ffdfb96a-bad4-11e8-b2b8-ac1f6b6435d0   \n",
              "11698  ffdfc590-bad4-11e8-b2b8-ac1f6b6435d0   \n",
              "11699  ffecb8a4-bad4-11e8-b2b8-ac1f6b6435d0   \n",
              "11700  fff03816-bad5-11e8-b2b9-ac1f6b6435d0   \n",
              "11701  fffe6f9c-bacd-11e8-b2b8-ac1f6b6435d0   \n",
              "\n",
              "                                               Predicted  \n",
              "0      0 1 2 3 4 5 6 7 8 9 10 11 12 13 14 15 16 17 18...  \n",
              "1      0 1 2 3 4 5 6 7 8 9 10 11 12 13 14 15 16 17 18...  \n",
              "2      0 1 2 3 4 5 6 7 8 9 10 11 12 13 14 15 16 17 18...  \n",
              "3      0 1 2 3 4 5 6 7 8 9 10 11 12 13 14 15 16 17 18...  \n",
              "4      0 1 2 3 4 5 6 7 8 9 10 11 12 13 14 15 16 17 18...  \n",
              "5      0 1 2 3 4 5 6 7 8 9 10 11 12 13 14 15 16 17 18...  \n",
              "6      0 1 2 3 4 5 6 7 8 9 10 11 12 13 14 15 16 17 18...  \n",
              "7      0 1 2 3 4 5 6 7 8 9 10 11 12 13 14 15 16 17 18...  \n",
              "8      0 1 2 3 4 5 6 7 8 9 10 11 12 13 14 15 16 17 18...  \n",
              "9      0 1 2 3 4 5 6 7 8 9 10 11 12 13 14 15 16 17 18...  \n",
              "10     0 1 2 3 4 5 6 7 8 9 10 11 12 13 14 15 16 17 18...  \n",
              "11     0 1 2 3 4 5 6 7 8 9 10 11 12 13 14 15 16 17 18...  \n",
              "12     0 1 2 3 4 5 6 7 8 9 10 11 12 13 14 15 16 17 18...  \n",
              "13     0 1 2 3 4 5 6 7 8 9 10 11 12 13 14 15 16 17 18...  \n",
              "14     0 1 2 3 4 5 6 7 8 9 10 11 12 13 14 15 16 17 18...  \n",
              "15     0 1 2 3 4 5 6 7 8 9 10 11 12 13 14 15 16 17 18...  \n",
              "16     0 1 2 3 4 5 6 7 8 9 10 11 12 13 14 15 16 17 18...  \n",
              "17     0 1 2 3 4 5 6 7 8 9 10 11 12 13 14 15 16 17 18...  \n",
              "18     0 1 2 3 4 5 6 7 8 9 10 11 12 13 14 15 16 17 18...  \n",
              "19     0 1 2 3 4 5 6 7 8 9 10 11 12 13 14 15 16 17 18...  \n",
              "20     0 1 2 3 4 5 6 7 8 9 10 11 12 13 14 15 16 17 18...  \n",
              "21     0 1 2 3 4 5 6 7 8 9 10 11 12 13 14 15 16 17 18...  \n",
              "22     0 1 2 3 4 5 6 7 8 9 10 11 12 13 14 15 16 17 18...  \n",
              "23     0 1 2 3 4 5 6 7 8 9 10 11 12 13 14 15 16 17 18...  \n",
              "24     0 1 2 3 4 5 6 7 8 9 10 11 12 13 14 15 16 17 18...  \n",
              "25     0 1 2 3 4 5 6 7 8 9 10 11 12 13 14 15 16 17 18...  \n",
              "26     0 1 2 3 4 5 6 7 8 9 10 11 12 13 14 15 16 17 18...  \n",
              "27     0 1 2 3 4 5 6 7 8 9 10 11 12 13 14 15 16 17 18...  \n",
              "28     0 1 2 3 4 5 6 7 8 9 10 11 12 13 14 15 16 17 18...  \n",
              "29     0 1 2 3 4 5 6 7 8 9 10 11 12 13 14 15 16 17 18...  \n",
              "...                                                  ...  \n",
              "11672  0 1 2 3 4 5 6 7 8 9 10 11 12 13 14 15 16 17 18...  \n",
              "11673  0 1 2 3 4 5 6 7 8 9 10 11 12 13 14 15 16 17 18...  \n",
              "11674  0 1 2 3 4 5 6 7 8 9 10 11 12 13 14 15 16 17 18...  \n",
              "11675  0 1 2 3 4 5 6 7 8 9 10 11 12 13 14 15 16 17 18...  \n",
              "11676  0 1 2 3 4 5 6 7 8 9 10 11 12 13 14 15 16 17 18...  \n",
              "11677  0 1 2 3 4 5 6 7 8 9 10 11 12 13 14 15 16 17 18...  \n",
              "11678  0 1 2 3 4 5 6 7 8 9 10 11 12 13 14 15 16 17 18...  \n",
              "11679  0 1 2 3 4 5 6 7 8 9 10 11 12 13 14 15 16 17 18...  \n",
              "11680  0 1 2 3 4 5 6 7 8 9 10 11 12 13 14 15 16 17 18...  \n",
              "11681  0 1 2 3 4 5 6 7 8 9 10 11 12 13 14 15 16 17 18...  \n",
              "11682  0 1 2 3 4 5 6 7 8 9 10 11 12 13 14 15 16 17 18...  \n",
              "11683  0 1 2 3 4 5 6 7 8 9 10 11 12 13 14 15 16 17 18...  \n",
              "11684  0 1 2 3 4 5 6 7 8 9 10 11 12 13 14 15 16 17 18...  \n",
              "11685  0 1 2 3 4 5 6 7 8 9 10 11 12 13 14 15 16 17 18...  \n",
              "11686  0 1 2 3 4 5 6 7 8 9 10 11 12 13 14 15 16 17 18...  \n",
              "11687  0 1 2 3 4 5 6 7 8 9 10 11 12 13 14 15 16 17 18...  \n",
              "11688  0 1 2 3 4 5 6 7 8 9 10 11 12 13 14 15 16 17 18...  \n",
              "11689  0 1 2 3 4 5 6 7 8 9 10 11 12 13 14 15 16 17 18...  \n",
              "11690  0 1 2 3 4 5 6 7 8 9 10 11 12 13 14 15 16 17 18...  \n",
              "11691  0 1 2 3 4 5 6 7 8 9 10 11 12 13 14 15 16 17 18...  \n",
              "11692  0 1 2 3 4 5 6 7 8 9 10 11 12 13 14 15 16 17 18...  \n",
              "11693  0 1 2 3 4 5 6 7 8 9 10 11 12 13 14 15 16 17 18...  \n",
              "11694  0 1 2 3 4 5 6 7 8 9 10 11 12 13 14 15 16 17 18...  \n",
              "11695  0 1 2 3 4 5 6 7 8 9 10 11 12 13 14 15 16 17 18...  \n",
              "11696  0 1 2 3 4 5 6 7 8 9 10 11 12 13 14 15 16 17 18...  \n",
              "11697  0 1 2 3 4 5 6 7 8 9 10 11 12 13 14 15 16 17 18...  \n",
              "11698  0 1 2 3 4 5 6 7 8 9 10 11 12 13 14 15 16 17 18...  \n",
              "11699  0 1 2 3 4 5 6 7 8 9 10 11 12 13 14 15 16 17 18...  \n",
              "11700  0 1 2 3 4 5 6 7 8 9 10 11 12 13 14 15 16 17 18...  \n",
              "11701  0 1 2 3 4 5 6 7 8 9 10 11 12 13 14 15 16 17 18...  \n",
              "\n",
              "[11702 rows x 2 columns]"
            ]
          },
          "metadata": {
            "tags": []
          },
          "execution_count": 97
        }
      ]
    }
  ]
}